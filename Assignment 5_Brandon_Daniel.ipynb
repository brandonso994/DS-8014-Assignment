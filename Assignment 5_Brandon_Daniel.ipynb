{
 "cells": [
  {
   "cell_type": "code",
   "execution_count": 3,
   "id": "a032fba2",
   "metadata": {},
   "outputs": [],
   "source": [
    "## set those accordingly\n",
    "datadir = 'C:/Users/Brandon/jupyter notebooks/DS 8014/GraphMiningNotebooks-master/GraphMiningNotebooks-master/Datasets/'\n",
    "abcd_path = 'C:/Users/Brandon/.julia/packages/ABCDGraphGenerator/aMeu6/utils/'"
   ]
  },
  {
   "cell_type": "code",
   "execution_count": 4,
   "id": "ad42c03a",
   "metadata": {},
   "outputs": [],
   "source": [
    "import igraph as ig\n",
    "import numpy as np\n",
    "import pandas as pd\n",
    "import matplotlib.pyplot as plt\n",
    "%matplotlib inline\n",
    "from sklearn.linear_model import LinearRegression\n",
    "from collections import Counter\n",
    "import os\n",
    "import umap\n",
    "import pickle\n",
    "import partition_igraph\n",
    "import subprocess\n",
    "import time\n",
    "from sklearn.metrics import adjusted_mutual_info_score as AMI\n",
    "\n",
    "## we used those for the book, but you can change to other colors\n",
    "cls_edges = 'gainsboro'\n",
    "cls = ['silver','dimgray','black']"
   ]
  },
  {
   "cell_type": "markdown",
   "id": "d326de63",
   "metadata": {},
   "source": [
    "# Question 1"
   ]
  },
  {
   "cell_type": "code",
   "execution_count": 5,
   "id": "98354c05",
   "metadata": {},
   "outputs": [
    {
     "data": {
      "image/svg+xml": [
       "<?xml version=\"1.0\" encoding=\"UTF-8\"?>\n",
       "<svg xmlns=\"http://www.w3.org/2000/svg\" xmlns:xlink=\"http://www.w3.org/1999/xlink\" width=\"350pt\" height=\"250pt\" viewBox=\"0 0 350 250\" version=\"1.1\">\n",
       "<defs>\n",
       "<g>\n",
       "<symbol overflow=\"visible\" id=\"glyph0-0\">\n",
       "<path style=\"stroke:none;\" d=\"M 1 0 L 1 -5 L 5 -5 L 5 0 Z M 1.125 -0.125 L 4.875 -0.125 L 4.875 -4.875 L 1.125 -4.875 Z M 1.125 -0.125 \"/>\n",
       "</symbol>\n",
       "<symbol overflow=\"visible\" id=\"glyph0-1\">\n",
       "<path style=\"stroke:none;\" d=\"M 0.332031 -2.824219 C 0.328125 -3.5 0.398438 -4.042969 0.539063 -4.457031 C 0.679688 -4.867188 0.886719 -5.1875 1.160156 -5.414063 C 1.433594 -5.636719 1.777344 -5.746094 2.199219 -5.75 C 2.503906 -5.746094 2.773438 -5.683594 3.007813 -5.5625 C 3.234375 -5.4375 3.425781 -5.261719 3.582031 -5.027344 C 3.730469 -4.792969 3.851563 -4.507813 3.9375 -4.175781 C 4.023438 -3.839844 4.066406 -3.390625 4.066406 -2.824219 C 4.066406 -2.152344 3.996094 -1.609375 3.859375 -1.195313 C 3.71875 -0.78125 3.511719 -0.460938 3.238281 -0.238281 C 2.960938 -0.015625 2.613281 0.09375 2.199219 0.0976563 C 1.644531 0.09375 1.210938 -0.101563 0.898438 -0.496094 C 0.515625 -0.96875 0.328125 -1.746094 0.332031 -2.824219 Z M 1.054688 -2.824219 C 1.054688 -1.882813 1.164063 -1.253906 1.382813 -0.945313 C 1.601563 -0.632813 1.871094 -0.480469 2.199219 -0.480469 C 2.519531 -0.480469 2.792969 -0.636719 3.011719 -0.949219 C 3.230469 -1.261719 3.339844 -1.886719 3.34375 -2.824219 C 3.339844 -3.765625 3.230469 -4.390625 3.011719 -4.703125 C 2.792969 -5.011719 2.519531 -5.167969 2.191406 -5.167969 C 1.867188 -5.167969 1.609375 -5.03125 1.417969 -4.757813 C 1.175781 -4.40625 1.054688 -3.761719 1.054688 -2.824219 Z M 1.054688 -2.824219 \"/>\n",
       "</symbol>\n",
       "<symbol overflow=\"visible\" id=\"glyph0-2\">\n",
       "<path style=\"stroke:none;\" d=\"M 2.980469 0 L 2.277344 0 L 2.277344 -4.480469 C 2.105469 -4.316406 1.882813 -4.15625 1.609375 -3.996094 C 1.332031 -3.832031 1.085938 -3.710938 0.871094 -3.632813 L 0.871094 -4.3125 C 1.261719 -4.496094 1.605469 -4.71875 1.902344 -4.984375 C 2.195313 -5.246094 2.402344 -5.5 2.527344 -5.75 L 2.980469 -5.75 Z M 2.980469 0 \"/>\n",
       "</symbol>\n",
       "<symbol overflow=\"visible\" id=\"glyph0-3\">\n",
       "<path style=\"stroke:none;\" d=\"M 4.027344 -0.675781 L 4.027344 0 L 0.242188 0 C 0.234375 -0.167969 0.261719 -0.328125 0.324219 -0.488281 C 0.417969 -0.742188 0.574219 -0.996094 0.785156 -1.25 C 0.996094 -1.496094 1.300781 -1.785156 1.707031 -2.117188 C 2.324219 -2.625 2.746094 -3.03125 2.96875 -3.328125 C 3.183594 -3.625 3.292969 -3.90625 3.296875 -4.175781 C 3.292969 -4.453125 3.191406 -4.6875 2.996094 -4.878906 C 2.792969 -5.070313 2.535156 -5.167969 2.21875 -5.167969 C 1.878906 -5.167969 1.609375 -5.066406 1.40625 -4.863281 C 1.203125 -4.660156 1.097656 -4.378906 1.097656 -4.019531 L 0.375 -4.09375 C 0.421875 -4.628906 0.605469 -5.039063 0.933594 -5.324219 C 1.253906 -5.605469 1.6875 -5.746094 2.234375 -5.75 C 2.78125 -5.746094 3.21875 -5.59375 3.539063 -5.292969 C 3.859375 -4.984375 4.019531 -4.609375 4.019531 -4.160156 C 4.019531 -3.929688 3.972656 -3.703125 3.878906 -3.484375 C 3.785156 -3.261719 3.628906 -3.027344 3.410156 -2.785156 C 3.191406 -2.535156 2.828125 -2.199219 2.328125 -1.777344 C 1.902344 -1.417969 1.632813 -1.179688 1.515625 -1.054688 C 1.394531 -0.929688 1.296875 -0.800781 1.21875 -0.675781 Z M 4.027344 -0.675781 \"/>\n",
       "</symbol>\n",
       "<symbol overflow=\"visible\" id=\"glyph0-4\">\n",
       "<path style=\"stroke:none;\" d=\"M 0.335938 -1.511719 L 1.039063 -1.605469 C 1.117188 -1.207031 1.253906 -0.917969 1.449219 -0.742188 C 1.640625 -0.566406 1.878906 -0.480469 2.160156 -0.480469 C 2.488281 -0.480469 2.765625 -0.59375 2.996094 -0.824219 C 3.222656 -1.050781 3.339844 -1.335938 3.339844 -1.675781 C 3.339844 -1.996094 3.234375 -2.261719 3.023438 -2.472656 C 2.8125 -2.683594 2.542969 -2.789063 2.21875 -2.789063 C 2.082031 -2.789063 1.917969 -2.761719 1.722656 -2.710938 L 1.800781 -3.328125 C 1.84375 -3.320313 1.882813 -3.316406 1.914063 -3.320313 C 2.210938 -3.316406 2.480469 -3.394531 2.722656 -3.554688 C 2.960938 -3.707031 3.082031 -3.949219 3.082031 -4.277344 C 3.082031 -4.535156 2.992188 -4.746094 2.820313 -4.917969 C 2.640625 -5.082031 2.417969 -5.167969 2.144531 -5.171875 C 1.871094 -5.167969 1.640625 -5.082031 1.460938 -4.914063 C 1.273438 -4.738281 1.15625 -4.480469 1.109375 -4.140625 L 0.40625 -4.265625 C 0.488281 -4.734375 0.683594 -5.097656 0.992188 -5.359375 C 1.292969 -5.617188 1.671875 -5.746094 2.128906 -5.75 C 2.4375 -5.746094 2.726563 -5.679688 2.992188 -5.546875 C 3.253906 -5.410156 3.453125 -5.226563 3.59375 -5 C 3.730469 -4.765625 3.800781 -4.519531 3.804688 -4.261719 C 3.800781 -4.011719 3.734375 -3.789063 3.605469 -3.585938 C 3.46875 -3.382813 3.273438 -3.21875 3.015625 -3.101563 C 3.351563 -3.019531 3.613281 -2.859375 3.804688 -2.613281 C 3.988281 -2.367188 4.082031 -2.058594 4.085938 -1.691406 C 4.082031 -1.1875 3.902344 -0.761719 3.539063 -0.417969 C 3.171875 -0.0703125 2.710938 0.0976563 2.15625 0.101563 C 1.652344 0.0976563 1.234375 -0.046875 0.902344 -0.347656 C 0.570313 -0.644531 0.378906 -1.035156 0.335938 -1.511719 Z M 0.335938 -1.511719 \"/>\n",
       "</symbol>\n",
       "<symbol overflow=\"visible\" id=\"glyph0-5\">\n",
       "<path style=\"stroke:none;\" d=\"M 2.585938 0 L 2.585938 -1.371094 L 0.101563 -1.371094 L 0.101563 -2.015625 L 2.714844 -5.726563 L 3.289063 -5.726563 L 3.289063 -2.015625 L 4.0625 -2.015625 L 4.0625 -1.371094 L 3.289063 -1.371094 L 3.289063 0 Z M 2.585938 -2.015625 L 2.585938 -4.597656 L 0.792969 -2.015625 Z M 2.585938 -2.015625 \"/>\n",
       "</symbol>\n",
       "<symbol overflow=\"visible\" id=\"glyph0-6\">\n",
       "<path style=\"stroke:none;\" d=\"M 0.332031 -1.5 L 1.070313 -1.5625 C 1.121094 -1.199219 1.246094 -0.929688 1.449219 -0.75 C 1.644531 -0.570313 1.886719 -0.480469 2.171875 -0.480469 C 2.507813 -0.480469 2.792969 -0.605469 3.03125 -0.863281 C 3.261719 -1.113281 3.378906 -1.453125 3.382813 -1.878906 C 3.378906 -2.277344 3.265625 -2.59375 3.042969 -2.828125 C 2.816406 -3.058594 2.523438 -3.175781 2.160156 -3.175781 C 1.929688 -3.175781 1.726563 -3.121094 1.546875 -3.019531 C 1.363281 -2.914063 1.21875 -2.78125 1.117188 -2.621094 L 0.457031 -2.707031 L 1.011719 -5.648438 L 3.859375 -5.648438 L 3.859375 -4.976563 L 1.574219 -4.976563 L 1.265625 -3.4375 C 1.609375 -3.675781 1.96875 -3.796875 2.347656 -3.796875 C 2.84375 -3.796875 3.265625 -3.621094 3.613281 -3.277344 C 3.953125 -2.925781 4.125 -2.480469 4.128906 -1.941406 C 4.125 -1.417969 3.972656 -0.972656 3.675781 -0.597656 C 3.304688 -0.136719 2.804688 0.09375 2.171875 0.0976563 C 1.648438 0.09375 1.222656 -0.0507813 0.894531 -0.339844 C 0.5625 -0.628906 0.375 -1.015625 0.332031 -1.5 Z M 0.332031 -1.5 \"/>\n",
       "</symbol>\n",
       "<symbol overflow=\"visible\" id=\"glyph0-7\">\n",
       "<path style=\"stroke:none;\" d=\"M 3.980469 -4.324219 L 3.28125 -4.269531 C 3.21875 -4.542969 3.128906 -4.742188 3.015625 -4.871094 C 2.824219 -5.066406 2.589844 -5.167969 2.3125 -5.171875 C 2.085938 -5.167969 1.890625 -5.105469 1.722656 -4.984375 C 1.5 -4.820313 1.324219 -4.585938 1.199219 -4.277344 C 1.070313 -3.964844 1.003906 -3.523438 1 -2.953125 C 1.167969 -3.210938 1.375 -3.402344 1.621094 -3.527344 C 1.863281 -3.652344 2.121094 -3.714844 2.390625 -3.714844 C 2.859375 -3.714844 3.257813 -3.539063 3.585938 -3.195313 C 3.914063 -2.847656 4.078125 -2.402344 4.082031 -1.859375 C 4.078125 -1.496094 4 -1.164063 3.847656 -0.855469 C 3.691406 -0.546875 3.480469 -0.308594 3.210938 -0.148438 C 2.9375 0.015625 2.628906 0.09375 2.289063 0.0976563 C 1.699219 0.09375 1.222656 -0.117188 0.855469 -0.546875 C 0.484375 -0.976563 0.296875 -1.6875 0.300781 -2.679688 C 0.296875 -3.78125 0.503906 -4.585938 0.914063 -5.09375 C 1.269531 -5.527344 1.75 -5.746094 2.355469 -5.75 C 2.804688 -5.746094 3.171875 -5.621094 3.460938 -5.371094 C 3.746094 -5.117188 3.917969 -4.769531 3.980469 -4.324219 Z M 1.109375 -1.855469 C 1.105469 -1.609375 1.15625 -1.378906 1.261719 -1.160156 C 1.363281 -0.9375 1.507813 -0.765625 1.695313 -0.652344 C 1.875 -0.535156 2.070313 -0.480469 2.277344 -0.480469 C 2.570313 -0.480469 2.824219 -0.597656 3.042969 -0.839844 C 3.253906 -1.074219 3.363281 -1.402344 3.363281 -1.816406 C 3.363281 -2.210938 3.257813 -2.519531 3.046875 -2.75 C 2.835938 -2.976563 2.570313 -3.09375 2.25 -3.09375 C 1.929688 -3.09375 1.660156 -2.976563 1.441406 -2.75 C 1.21875 -2.519531 1.105469 -2.222656 1.109375 -1.855469 Z M 1.109375 -1.855469 \"/>\n",
       "</symbol>\n",
       "<symbol overflow=\"visible\" id=\"glyph0-8\">\n",
       "<path style=\"stroke:none;\" d=\"M 0.378906 -4.976563 L 0.378906 -5.652344 L 4.085938 -5.652344 L 4.085938 -5.105469 C 3.71875 -4.714844 3.359375 -4.199219 3 -3.558594 C 2.640625 -2.910156 2.363281 -2.25 2.171875 -1.574219 C 2.027344 -1.09375 1.9375 -0.570313 1.902344 0 L 1.179688 0 C 1.183594 -0.449219 1.273438 -0.992188 1.445313 -1.632813 C 1.613281 -2.269531 1.855469 -2.882813 2.171875 -3.476563 C 2.488281 -4.066406 2.824219 -4.566406 3.183594 -4.976563 Z M 0.378906 -4.976563 \"/>\n",
       "</symbol>\n",
       "<symbol overflow=\"visible\" id=\"glyph0-9\">\n",
       "<path style=\"stroke:none;\" d=\"M 1.414063 -3.105469 C 1.117188 -3.210938 0.902344 -3.363281 0.765625 -3.5625 C 0.621094 -3.757813 0.550781 -3.992188 0.554688 -4.273438 C 0.550781 -4.6875 0.699219 -5.039063 1.003906 -5.324219 C 1.300781 -5.605469 1.699219 -5.746094 2.199219 -5.75 C 2.695313 -5.746094 3.097656 -5.601563 3.40625 -5.3125 C 3.707031 -5.019531 3.859375 -4.667969 3.863281 -4.253906 C 3.859375 -3.988281 3.789063 -3.753906 3.652344 -3.558594 C 3.511719 -3.359375 3.300781 -3.210938 3.019531 -3.105469 C 3.367188 -2.988281 3.636719 -2.800781 3.820313 -2.550781 C 4.003906 -2.292969 4.09375 -1.988281 4.097656 -1.636719 C 4.09375 -1.144531 3.921875 -0.734375 3.578125 -0.402344 C 3.230469 -0.0703125 2.773438 0.09375 2.210938 0.0976563 C 1.640625 0.09375 1.1875 -0.0703125 0.84375 -0.402344 C 0.496094 -0.734375 0.320313 -1.152344 0.324219 -1.65625 C 0.320313 -2.027344 0.414063 -2.339844 0.605469 -2.589844 C 0.792969 -2.839844 1.0625 -3.011719 1.414063 -3.105469 Z M 1.273438 -4.296875 C 1.269531 -4.023438 1.359375 -3.804688 1.535156 -3.632813 C 1.707031 -3.460938 1.933594 -3.375 2.214844 -3.375 C 2.484375 -3.375 2.703125 -3.457031 2.878906 -3.628906 C 3.050781 -3.796875 3.140625 -4.007813 3.140625 -4.257813 C 3.140625 -4.511719 3.050781 -4.726563 2.871094 -4.90625 C 2.691406 -5.078125 2.46875 -5.167969 2.207031 -5.171875 C 1.9375 -5.167969 1.714844 -5.082031 1.539063 -4.914063 C 1.359375 -4.738281 1.269531 -4.53125 1.273438 -4.296875 Z M 1.046875 -1.652344 C 1.042969 -1.449219 1.089844 -1.253906 1.1875 -1.070313 C 1.28125 -0.878906 1.421875 -0.734375 1.613281 -0.632813 C 1.796875 -0.53125 2 -0.480469 2.21875 -0.480469 C 2.550781 -0.480469 2.828125 -0.585938 3.050781 -0.804688 C 3.265625 -1.015625 3.375 -1.292969 3.378906 -1.628906 C 3.375 -1.964844 3.261719 -2.242188 3.039063 -2.46875 C 2.8125 -2.6875 2.53125 -2.800781 2.195313 -2.800781 C 1.863281 -2.800781 1.589844 -2.691406 1.371094 -2.472656 C 1.152344 -2.253906 1.042969 -1.980469 1.046875 -1.652344 Z M 1.046875 -1.652344 \"/>\n",
       "</symbol>\n",
       "<symbol overflow=\"visible\" id=\"glyph0-10\">\n",
       "<path style=\"stroke:none;\" d=\"M 0.4375 -1.324219 L 1.113281 -1.386719 C 1.167969 -1.066406 1.277344 -0.835938 1.441406 -0.695313 C 1.601563 -0.550781 1.808594 -0.480469 2.0625 -0.480469 C 2.277344 -0.480469 2.464844 -0.527344 2.628906 -0.628906 C 2.789063 -0.722656 2.921875 -0.855469 3.03125 -1.023438 C 3.132813 -1.1875 3.222656 -1.410156 3.292969 -1.695313 C 3.363281 -1.972656 3.398438 -2.261719 3.398438 -2.554688 C 3.398438 -2.585938 3.394531 -2.632813 3.394531 -2.695313 C 3.25 -2.46875 3.058594 -2.285156 2.816406 -2.148438 C 2.570313 -2.007813 2.308594 -1.9375 2.027344 -1.941406 C 1.550781 -1.9375 1.148438 -2.109375 0.824219 -2.457031 C 0.492188 -2.796875 0.328125 -3.25 0.332031 -3.816406 C 0.328125 -4.394531 0.5 -4.863281 0.84375 -5.21875 C 1.1875 -5.570313 1.617188 -5.746094 2.132813 -5.75 C 2.503906 -5.746094 2.84375 -5.648438 3.152344 -5.449219 C 3.460938 -5.246094 3.695313 -4.957031 3.855469 -4.589844 C 4.015625 -4.214844 4.09375 -3.679688 4.097656 -2.980469 C 4.09375 -2.246094 4.015625 -1.664063 3.859375 -1.230469 C 3.699219 -0.796875 3.460938 -0.464844 3.148438 -0.242188 C 2.832031 -0.015625 2.464844 0.09375 2.046875 0.0976563 C 1.59375 0.09375 1.230469 -0.0273438 0.949219 -0.273438 C 0.664063 -0.519531 0.492188 -0.871094 0.4375 -1.324219 Z M 3.316406 -3.851563 C 3.316406 -4.25 3.207031 -4.570313 2.992188 -4.8125 C 2.777344 -5.046875 2.519531 -5.167969 2.21875 -5.167969 C 1.902344 -5.167969 1.628906 -5.039063 1.402344 -4.785156 C 1.167969 -4.527344 1.054688 -4.195313 1.054688 -3.792969 C 1.054688 -3.425781 1.164063 -3.128906 1.382813 -2.902344 C 1.601563 -2.671875 1.871094 -2.558594 2.199219 -2.5625 C 2.519531 -2.558594 2.789063 -2.671875 3 -2.902344 C 3.210938 -3.128906 3.316406 -3.445313 3.316406 -3.851563 Z M 3.316406 -3.851563 \"/>\n",
       "</symbol>\n",
       "</g>\n",
       "</defs>\n",
       "<g id=\"surface2\">\n",
       "<rect x=\"0\" y=\"0\" width=\"350\" height=\"250\" style=\"fill:rgb(100%,100%,100%);fill-opacity:1;stroke:none;\"/>\n",
       "<path style=\"fill:none;stroke-width:1;stroke-linecap:butt;stroke-linejoin:miter;stroke:rgb(86.27451%,86.27451%,86.27451%);stroke-opacity:1;stroke-miterlimit:10;\" d=\"M 157.414063 155.035156 L 101.5625 143.007813 \"/>\n",
       "<path style=\"fill:none;stroke-width:1;stroke-linecap:butt;stroke-linejoin:miter;stroke:rgb(86.27451%,86.27451%,86.27451%);stroke-opacity:1;stroke-miterlimit:10;\" d=\"M 157.414063 155.035156 L 178.5 113.941406 \"/>\n",
       "<path style=\"fill:none;stroke-width:1;stroke-linecap:butt;stroke-linejoin:miter;stroke:rgb(86.27451%,86.27451%,86.27451%);stroke-opacity:1;stroke-miterlimit:10;\" d=\"M 157.414063 155.035156 L 179.742188 145.398438 \"/>\n",
       "<path style=\"fill:none;stroke-width:1;stroke-linecap:butt;stroke-linejoin:miter;stroke:rgb(86.27451%,86.27451%,86.27451%);stroke-opacity:1;stroke-miterlimit:10;\" d=\"M 157.414063 155.035156 L 281.929688 166.636719 \"/>\n",
       "<path style=\"fill:none;stroke-width:1;stroke-linecap:butt;stroke-linejoin:miter;stroke:rgb(86.27451%,86.27451%,86.27451%);stroke-opacity:1;stroke-miterlimit:10;\" d=\"M 157.414063 155.035156 L 185.964844 199.144531 \"/>\n",
       "<path style=\"fill:none;stroke-width:1;stroke-linecap:butt;stroke-linejoin:miter;stroke:rgb(86.27451%,86.27451%,86.27451%);stroke-opacity:1;stroke-miterlimit:10;\" d=\"M 157.414063 155.035156 L 239.496094 190.84375 \"/>\n",
       "<path style=\"fill:none;stroke-width:1;stroke-linecap:butt;stroke-linejoin:miter;stroke:rgb(86.27451%,86.27451%,86.27451%);stroke-opacity:1;stroke-miterlimit:10;\" d=\"M 157.414063 155.035156 L 229.152344 141.992188 \"/>\n",
       "<path style=\"fill:none;stroke-width:1;stroke-linecap:butt;stroke-linejoin:miter;stroke:rgb(86.27451%,86.27451%,86.27451%);stroke-opacity:1;stroke-miterlimit:10;\" d=\"M 157.414063 155.035156 L 108.039063 110.171875 \"/>\n",
       "<path style=\"fill:none;stroke-width:1;stroke-linecap:butt;stroke-linejoin:miter;stroke:rgb(86.27451%,86.27451%,86.27451%);stroke-opacity:1;stroke-miterlimit:10;\" d=\"M 157.414063 155.035156 L 236.03125 178.476563 \"/>\n",
       "<path style=\"fill:none;stroke-width:1;stroke-linecap:butt;stroke-linejoin:miter;stroke:rgb(86.27451%,86.27451%,86.27451%);stroke-opacity:1;stroke-miterlimit:10;\" d=\"M 157.414063 155.035156 L 93.316406 193.589844 \"/>\n",
       "<path style=\"fill:none;stroke-width:1;stroke-linecap:butt;stroke-linejoin:miter;stroke:rgb(86.27451%,86.27451%,86.27451%);stroke-opacity:1;stroke-miterlimit:10;\" d=\"M 157.414063 155.035156 L 140.550781 187.515625 \"/>\n",
       "<path style=\"fill:none;stroke-width:1;stroke-linecap:butt;stroke-linejoin:miter;stroke:rgb(86.27451%,86.27451%,86.27451%);stroke-opacity:1;stroke-miterlimit:10;\" d=\"M 157.414063 155.035156 L 129.84375 119.078125 \"/>\n",
       "<path style=\"fill:none;stroke-width:1;stroke-linecap:butt;stroke-linejoin:miter;stroke:rgb(86.27451%,86.27451%,86.27451%);stroke-opacity:1;stroke-miterlimit:10;\" d=\"M 157.414063 155.035156 L 39.71875 165.132813 \"/>\n",
       "<path style=\"fill:none;stroke-width:1;stroke-linecap:butt;stroke-linejoin:miter;stroke:rgb(86.27451%,86.27451%,86.27451%);stroke-opacity:1;stroke-miterlimit:10;\" d=\"M 157.414063 155.035156 L 76.484375 119.023438 \"/>\n",
       "<path style=\"fill:none;stroke-width:1;stroke-linecap:butt;stroke-linejoin:miter;stroke:rgb(86.27451%,86.27451%,86.27451%);stroke-opacity:1;stroke-miterlimit:10;\" d=\"M 157.414063 155.035156 L 65.179688 176.0625 \"/>\n",
       "<path style=\"fill:none;stroke-width:1;stroke-linecap:butt;stroke-linejoin:miter;stroke:rgb(86.27451%,86.27451%,86.27451%);stroke-opacity:1;stroke-miterlimit:10;\" d=\"M 157.414063 155.035156 L 217.816406 106.785156 \"/>\n",
       "<path style=\"fill:none;stroke-width:1;stroke-linecap:butt;stroke-linejoin:miter;stroke:rgb(86.27451%,86.27451%,86.27451%);stroke-opacity:1;stroke-miterlimit:10;\" d=\"M 101.5625 143.007813 L 178.5 113.941406 \"/>\n",
       "<path style=\"fill:none;stroke-width:1;stroke-linecap:butt;stroke-linejoin:miter;stroke:rgb(86.27451%,86.27451%,86.27451%);stroke-opacity:1;stroke-miterlimit:10;\" d=\"M 101.5625 143.007813 L 179.742188 145.398438 \"/>\n",
       "<path style=\"fill:none;stroke-width:1;stroke-linecap:butt;stroke-linejoin:miter;stroke:rgb(86.27451%,86.27451%,86.27451%);stroke-opacity:1;stroke-miterlimit:10;\" d=\"M 101.5625 143.007813 L 229.152344 141.992188 \"/>\n",
       "<path style=\"fill:none;stroke-width:1;stroke-linecap:butt;stroke-linejoin:miter;stroke:rgb(86.27451%,86.27451%,86.27451%);stroke-opacity:1;stroke-miterlimit:10;\" d=\"M 101.5625 143.007813 L 129.84375 119.078125 \"/>\n",
       "<path style=\"fill:none;stroke-width:1;stroke-linecap:butt;stroke-linejoin:miter;stroke:rgb(86.27451%,86.27451%,86.27451%);stroke-opacity:1;stroke-miterlimit:10;\" d=\"M 101.5625 143.007813 L 39.71875 165.132813 \"/>\n",
       "<path style=\"fill:none;stroke-width:1;stroke-linecap:butt;stroke-linejoin:miter;stroke:rgb(86.27451%,86.27451%,86.27451%);stroke-opacity:1;stroke-miterlimit:10;\" d=\"M 101.5625 143.007813 L 76.484375 119.023438 \"/>\n",
       "<path style=\"fill:none;stroke-width:1;stroke-linecap:butt;stroke-linejoin:miter;stroke:rgb(86.27451%,86.27451%,86.27451%);stroke-opacity:1;stroke-miterlimit:10;\" d=\"M 101.5625 143.007813 L 65.179688 176.0625 \"/>\n",
       "<path style=\"fill:none;stroke-width:1;stroke-linecap:butt;stroke-linejoin:miter;stroke:rgb(86.27451%,86.27451%,86.27451%);stroke-opacity:1;stroke-miterlimit:10;\" d=\"M 101.5625 143.007813 L 48.058594 98.839844 \"/>\n",
       "<path style=\"fill:none;stroke-width:1;stroke-linecap:butt;stroke-linejoin:miter;stroke:rgb(86.27451%,86.27451%,86.27451%);stroke-opacity:1;stroke-miterlimit:10;\" d=\"M 178.5 113.941406 L 179.742188 145.398438 \"/>\n",
       "<path style=\"fill:none;stroke-width:1;stroke-linecap:butt;stroke-linejoin:miter;stroke:rgb(86.27451%,86.27451%,86.27451%);stroke-opacity:1;stroke-miterlimit:10;\" d=\"M 178.5 113.941406 L 229.152344 141.992188 \"/>\n",
       "<path style=\"fill:none;stroke-width:1;stroke-linecap:butt;stroke-linejoin:miter;stroke:rgb(86.27451%,86.27451%,86.27451%);stroke-opacity:1;stroke-miterlimit:10;\" d=\"M 178.5 113.941406 L 246.769531 80.890625 \"/>\n",
       "<path style=\"fill:none;stroke-width:1;stroke-linecap:butt;stroke-linejoin:miter;stroke:rgb(86.27451%,86.27451%,86.27451%);stroke-opacity:1;stroke-miterlimit:10;\" d=\"M 178.5 113.941406 L 218.164063 79.722656 \"/>\n",
       "<path style=\"fill:none;stroke-width:1;stroke-linecap:butt;stroke-linejoin:miter;stroke:rgb(86.27451%,86.27451%,86.27451%);stroke-opacity:1;stroke-miterlimit:10;\" d=\"M 178.5 113.941406 L 115.121094 73.40625 \"/>\n",
       "<path style=\"fill:none;stroke-width:1;stroke-linecap:butt;stroke-linejoin:miter;stroke:rgb(86.27451%,86.27451%,86.27451%);stroke-opacity:1;stroke-miterlimit:10;\" d=\"M 178.5 113.941406 L 184.921875 78.945313 \"/>\n",
       "<path style=\"fill:none;stroke-width:1;stroke-linecap:butt;stroke-linejoin:miter;stroke:rgb(86.27451%,86.27451%,86.27451%);stroke-opacity:1;stroke-miterlimit:10;\" d=\"M 178.5 113.941406 L 108.039063 110.171875 \"/>\n",
       "<path style=\"fill:none;stroke-width:1;stroke-linecap:butt;stroke-linejoin:miter;stroke:rgb(86.27451%,86.27451%,86.27451%);stroke-opacity:1;stroke-miterlimit:10;\" d=\"M 178.5 113.941406 L 129.84375 119.078125 \"/>\n",
       "<path style=\"fill:none;stroke-width:1;stroke-linecap:butt;stroke-linejoin:miter;stroke:rgb(86.27451%,86.27451%,86.27451%);stroke-opacity:1;stroke-miterlimit:10;\" d=\"M 179.742188 145.398438 L 229.152344 141.992188 \"/>\n",
       "<path style=\"fill:none;stroke-width:1;stroke-linecap:butt;stroke-linejoin:miter;stroke:rgb(86.27451%,86.27451%,86.27451%);stroke-opacity:1;stroke-miterlimit:10;\" d=\"M 179.742188 145.398438 L 140.550781 187.515625 \"/>\n",
       "<path style=\"fill:none;stroke-width:1;stroke-linecap:butt;stroke-linejoin:miter;stroke:rgb(86.27451%,86.27451%,86.27451%);stroke-opacity:1;stroke-miterlimit:10;\" d=\"M 179.742188 145.398438 L 129.84375 119.078125 \"/>\n",
       "<path style=\"fill:none;stroke-width:1;stroke-linecap:butt;stroke-linejoin:miter;stroke:rgb(86.27451%,86.27451%,86.27451%);stroke-opacity:1;stroke-miterlimit:10;\" d=\"M 281.929688 166.636719 L 239.496094 190.84375 \"/>\n",
       "<path style=\"fill:none;stroke-width:1;stroke-linecap:butt;stroke-linejoin:miter;stroke:rgb(86.27451%,86.27451%,86.27451%);stroke-opacity:1;stroke-miterlimit:10;\" d=\"M 281.929688 166.636719 L 236.03125 178.476563 \"/>\n",
       "<path style=\"fill:none;stroke-width:1;stroke-linecap:butt;stroke-linejoin:miter;stroke:rgb(86.27451%,86.27451%,86.27451%);stroke-opacity:1;stroke-miterlimit:10;\" d=\"M 185.964844 199.144531 L 239.496094 190.84375 \"/>\n",
       "<path style=\"fill:none;stroke-width:1;stroke-linecap:butt;stroke-linejoin:miter;stroke:rgb(86.27451%,86.27451%,86.27451%);stroke-opacity:1;stroke-miterlimit:10;\" d=\"M 185.964844 199.144531 L 236.03125 178.476563 \"/>\n",
       "<path style=\"fill:none;stroke-width:1;stroke-linecap:butt;stroke-linejoin:miter;stroke:rgb(86.27451%,86.27451%,86.27451%);stroke-opacity:1;stroke-miterlimit:10;\" d=\"M 185.964844 199.144531 L 256.253906 230 \"/>\n",
       "<path style=\"fill:none;stroke-width:1;stroke-linecap:butt;stroke-linejoin:miter;stroke:rgb(86.27451%,86.27451%,86.27451%);stroke-opacity:1;stroke-miterlimit:10;\" d=\"M 239.496094 190.84375 L 256.253906 230 \"/>\n",
       "<path style=\"fill:none;stroke-width:1;stroke-linecap:butt;stroke-linejoin:miter;stroke:rgb(86.27451%,86.27451%,86.27451%);stroke-opacity:1;stroke-miterlimit:10;\" d=\"M 108.039063 110.171875 L 48.058594 98.839844 \"/>\n",
       "<path style=\"fill:none;stroke-width:1;stroke-linecap:butt;stroke-linejoin:miter;stroke:rgb(86.27451%,86.27451%,86.27451%);stroke-opacity:1;stroke-miterlimit:10;\" d=\"M 108.039063 110.171875 L 115.121094 73.40625 \"/>\n",
       "<path style=\"fill:none;stroke-width:1;stroke-linecap:butt;stroke-linejoin:miter;stroke:rgb(86.27451%,86.27451%,86.27451%);stroke-opacity:1;stroke-miterlimit:10;\" d=\"M 108.039063 110.171875 L 136.519531 70.777344 \"/>\n",
       "<path style=\"fill:none;stroke-width:1;stroke-linecap:butt;stroke-linejoin:miter;stroke:rgb(86.27451%,86.27451%,86.27451%);stroke-opacity:1;stroke-miterlimit:10;\" d=\"M 184.921875 78.945313 L 136.519531 70.777344 \"/>\n",
       "<path style=\"fill:none;stroke-width:1;stroke-linecap:butt;stroke-linejoin:miter;stroke:rgb(86.27451%,86.27451%,86.27451%);stroke-opacity:1;stroke-miterlimit:10;\" d=\"M 129.84375 119.078125 L 136.519531 70.777344 \"/>\n",
       "<path style=\"fill:none;stroke-width:1;stroke-linecap:butt;stroke-linejoin:miter;stroke:rgb(86.27451%,86.27451%,86.27451%);stroke-opacity:1;stroke-miterlimit:10;\" d=\"M 87.359375 34.953125 L 115.121094 73.40625 \"/>\n",
       "<path style=\"fill:none;stroke-width:1;stroke-linecap:butt;stroke-linejoin:miter;stroke:rgb(86.27451%,86.27451%,86.27451%);stroke-opacity:1;stroke-miterlimit:10;\" d=\"M 87.359375 34.953125 L 136.519531 70.777344 \"/>\n",
       "<path style=\"fill:none;stroke-width:1;stroke-linecap:butt;stroke-linejoin:miter;stroke:rgb(86.27451%,86.27451%,86.27451%);stroke-opacity:1;stroke-miterlimit:10;\" d=\"M 32.800781 56.101563 L 115.121094 73.40625 \"/>\n",
       "<path style=\"fill:none;stroke-width:1;stroke-linecap:butt;stroke-linejoin:miter;stroke:rgb(86.27451%,86.27451%,86.27451%);stroke-opacity:1;stroke-miterlimit:10;\" d=\"M 32.800781 56.101563 L 136.519531 70.777344 \"/>\n",
       "<path style=\"fill:none;stroke-width:1;stroke-linecap:butt;stroke-linejoin:miter;stroke:rgb(86.27451%,86.27451%,86.27451%);stroke-opacity:1;stroke-miterlimit:10;\" d=\"M 20 70.054688 L 115.121094 73.40625 \"/>\n",
       "<path style=\"fill:none;stroke-width:1;stroke-linecap:butt;stroke-linejoin:miter;stroke:rgb(86.27451%,86.27451%,86.27451%);stroke-opacity:1;stroke-miterlimit:10;\" d=\"M 20 70.054688 L 136.519531 70.777344 \"/>\n",
       "<path style=\"fill:none;stroke-width:1;stroke-linecap:butt;stroke-linejoin:miter;stroke:rgb(86.27451%,86.27451%,86.27451%);stroke-opacity:1;stroke-miterlimit:10;\" d=\"M 76.484375 119.023438 L 136.519531 70.777344 \"/>\n",
       "<path style=\"fill:none;stroke-width:1;stroke-linecap:butt;stroke-linejoin:miter;stroke:rgb(86.27451%,86.27451%,86.27451%);stroke-opacity:1;stroke-miterlimit:10;\" d=\"M 55.632813 43.875 L 115.121094 73.40625 \"/>\n",
       "<path style=\"fill:none;stroke-width:1;stroke-linecap:butt;stroke-linejoin:miter;stroke:rgb(86.27451%,86.27451%,86.27451%);stroke-opacity:1;stroke-miterlimit:10;\" d=\"M 55.632813 43.875 L 136.519531 70.777344 \"/>\n",
       "<path style=\"fill:none;stroke-width:1;stroke-linecap:butt;stroke-linejoin:miter;stroke:rgb(86.27451%,86.27451%,86.27451%);stroke-opacity:1;stroke-miterlimit:10;\" d=\"M 127.089844 32.976563 L 115.121094 73.40625 \"/>\n",
       "<path style=\"fill:none;stroke-width:1;stroke-linecap:butt;stroke-linejoin:miter;stroke:rgb(86.27451%,86.27451%,86.27451%);stroke-opacity:1;stroke-miterlimit:10;\" d=\"M 127.089844 32.976563 L 136.519531 70.777344 \"/>\n",
       "<path style=\"fill:none;stroke-width:1;stroke-linecap:butt;stroke-linejoin:miter;stroke:rgb(86.27451%,86.27451%,86.27451%);stroke-opacity:1;stroke-miterlimit:10;\" d=\"M 238.324219 52.601563 L 321.199219 98.210938 \"/>\n",
       "<path style=\"fill:none;stroke-width:1;stroke-linecap:butt;stroke-linejoin:miter;stroke:rgb(86.27451%,86.27451%,86.27451%);stroke-opacity:1;stroke-miterlimit:10;\" d=\"M 238.324219 52.601563 L 246.769531 80.890625 \"/>\n",
       "<path style=\"fill:none;stroke-width:1;stroke-linecap:butt;stroke-linejoin:miter;stroke:rgb(86.27451%,86.27451%,86.27451%);stroke-opacity:1;stroke-miterlimit:10;\" d=\"M 238.324219 52.601563 L 115.121094 73.40625 \"/>\n",
       "<path style=\"fill:none;stroke-width:1;stroke-linecap:butt;stroke-linejoin:miter;stroke:rgb(86.27451%,86.27451%,86.27451%);stroke-opacity:1;stroke-miterlimit:10;\" d=\"M 238.324219 52.601563 L 136.519531 70.777344 \"/>\n",
       "<path style=\"fill:none;stroke-width:1;stroke-linecap:butt;stroke-linejoin:miter;stroke:rgb(86.27451%,86.27451%,86.27451%);stroke-opacity:1;stroke-miterlimit:10;\" d=\"M 238.324219 52.601563 L 192.34375 38.078125 \"/>\n",
       "<path style=\"fill:none;stroke-width:1;stroke-linecap:butt;stroke-linejoin:miter;stroke:rgb(86.27451%,86.27451%,86.27451%);stroke-opacity:1;stroke-miterlimit:10;\" d=\"M 330 82.347656 L 321.199219 98.210938 \"/>\n",
       "<path style=\"fill:none;stroke-width:1;stroke-linecap:butt;stroke-linejoin:miter;stroke:rgb(86.27451%,86.27451%,86.27451%);stroke-opacity:1;stroke-miterlimit:10;\" d=\"M 330 82.347656 L 246.769531 80.890625 \"/>\n",
       "<path style=\"fill:none;stroke-width:1;stroke-linecap:butt;stroke-linejoin:miter;stroke:rgb(86.27451%,86.27451%,86.27451%);stroke-opacity:1;stroke-miterlimit:10;\" d=\"M 330 82.347656 L 217.816406 106.785156 \"/>\n",
       "<path style=\"fill:none;stroke-width:1;stroke-linecap:butt;stroke-linejoin:miter;stroke:rgb(86.27451%,86.27451%,86.27451%);stroke-opacity:1;stroke-miterlimit:10;\" d=\"M 321.199219 98.210938 L 217.816406 106.785156 \"/>\n",
       "<path style=\"fill:none;stroke-width:1;stroke-linecap:butt;stroke-linejoin:miter;stroke:rgb(86.27451%,86.27451%,86.27451%);stroke-opacity:1;stroke-miterlimit:10;\" d=\"M 162.273438 20 L 192.34375 38.078125 \"/>\n",
       "<path style=\"fill:none;stroke-width:1;stroke-linecap:butt;stroke-linejoin:miter;stroke:rgb(86.27451%,86.27451%,86.27451%);stroke-opacity:1;stroke-miterlimit:10;\" d=\"M 162.273438 20 L 136.519531 70.777344 \"/>\n",
       "<path style=\"fill:none;stroke-width:1;stroke-linecap:butt;stroke-linejoin:miter;stroke:rgb(86.27451%,86.27451%,86.27451%);stroke-opacity:1;stroke-miterlimit:10;\" d=\"M 246.769531 80.890625 L 136.519531 70.777344 \"/>\n",
       "<path style=\"fill:none;stroke-width:1;stroke-linecap:butt;stroke-linejoin:miter;stroke:rgb(86.27451%,86.27451%,86.27451%);stroke-opacity:1;stroke-miterlimit:10;\" d=\"M 218.164063 79.722656 L 217.816406 106.785156 \"/>\n",
       "<path style=\"fill:none;stroke-width:1;stroke-linecap:butt;stroke-linejoin:miter;stroke:rgb(86.27451%,86.27451%,86.27451%);stroke-opacity:1;stroke-miterlimit:10;\" d=\"M 218.164063 79.722656 L 136.519531 70.777344 \"/>\n",
       "<path style=\"fill:none;stroke-width:1;stroke-linecap:butt;stroke-linejoin:miter;stroke:rgb(86.27451%,86.27451%,86.27451%);stroke-opacity:1;stroke-miterlimit:10;\" d=\"M 192.34375 38.078125 L 115.121094 73.40625 \"/>\n",
       "<path style=\"fill:none;stroke-width:1;stroke-linecap:butt;stroke-linejoin:miter;stroke:rgb(86.27451%,86.27451%,86.27451%);stroke-opacity:1;stroke-miterlimit:10;\" d=\"M 192.34375 38.078125 L 136.519531 70.777344 \"/>\n",
       "<path style=\"fill:none;stroke-width:1;stroke-linecap:butt;stroke-linejoin:miter;stroke:rgb(86.27451%,86.27451%,86.27451%);stroke-opacity:1;stroke-miterlimit:10;\" d=\"M 48.058594 98.839844 L 115.121094 73.40625 \"/>\n",
       "<path style=\"fill:none;stroke-width:1;stroke-linecap:butt;stroke-linejoin:miter;stroke:rgb(86.27451%,86.27451%,86.27451%);stroke-opacity:1;stroke-miterlimit:10;\" d=\"M 48.058594 98.839844 L 136.519531 70.777344 \"/>\n",
       "<path style=\"fill:none;stroke-width:1;stroke-linecap:butt;stroke-linejoin:miter;stroke:rgb(86.27451%,86.27451%,86.27451%);stroke-opacity:1;stroke-miterlimit:10;\" d=\"M 217.816406 106.785156 L 115.121094 73.40625 \"/>\n",
       "<path style=\"fill:none;stroke-width:1;stroke-linecap:butt;stroke-linejoin:miter;stroke:rgb(86.27451%,86.27451%,86.27451%);stroke-opacity:1;stroke-miterlimit:10;\" d=\"M 217.816406 106.785156 L 136.519531 70.777344 \"/>\n",
       "<path style=\"fill:none;stroke-width:1;stroke-linecap:butt;stroke-linejoin:miter;stroke:rgb(86.27451%,86.27451%,86.27451%);stroke-opacity:1;stroke-miterlimit:10;\" d=\"M 115.121094 73.40625 L 136.519531 70.777344 \"/>\n",
       "<path style=\"fill-rule:nonzero;fill:rgb(75%,75%,75%);fill-opacity:1;stroke-width:1;stroke-linecap:butt;stroke-linejoin:miter;stroke:rgb(0%,0%,0%);stroke-opacity:1;stroke-miterlimit:10;\" d=\"M 163.414063 155.035156 C 163.414063 158.351563 160.726563 161.035156 157.414063 161.035156 C 154.097656 161.035156 151.414063 158.351563 151.414063 155.035156 C 151.414063 151.722656 154.097656 149.035156 157.414063 149.035156 C 160.726563 149.035156 163.414063 151.722656 163.414063 155.035156 \"/>\n",
       "<path style=\"fill-rule:nonzero;fill:rgb(75%,75%,75%);fill-opacity:1;stroke-width:1;stroke-linecap:butt;stroke-linejoin:miter;stroke:rgb(0%,0%,0%);stroke-opacity:1;stroke-miterlimit:10;\" d=\"M 107.5625 143.007813 C 107.5625 146.320313 104.875 149.007813 101.5625 149.007813 C 98.246094 149.007813 95.5625 146.320313 95.5625 143.007813 C 95.5625 139.695313 98.246094 137.007813 101.5625 137.007813 C 104.875 137.007813 107.5625 139.695313 107.5625 143.007813 \"/>\n",
       "<path style=\"fill-rule:nonzero;fill:rgb(75%,75%,75%);fill-opacity:1;stroke-width:1;stroke-linecap:butt;stroke-linejoin:miter;stroke:rgb(0%,0%,0%);stroke-opacity:1;stroke-miterlimit:10;\" d=\"M 184.5 113.941406 C 184.5 117.253906 181.8125 119.941406 178.5 119.941406 C 175.183594 119.941406 172.5 117.253906 172.5 113.941406 C 172.5 110.628906 175.183594 107.941406 178.5 107.941406 C 181.8125 107.941406 184.5 110.628906 184.5 113.941406 \"/>\n",
       "<path style=\"fill-rule:nonzero;fill:rgb(75%,75%,75%);fill-opacity:1;stroke-width:1;stroke-linecap:butt;stroke-linejoin:miter;stroke:rgb(0%,0%,0%);stroke-opacity:1;stroke-miterlimit:10;\" d=\"M 185.742188 145.398438 C 185.742188 148.714844 183.054688 151.398438 179.742188 151.398438 C 176.425781 151.398438 173.742188 148.714844 173.742188 145.398438 C 173.742188 142.085938 176.425781 139.398438 179.742188 139.398438 C 183.054688 139.398438 185.742188 142.085938 185.742188 145.398438 \"/>\n",
       "<path style=\"fill-rule:nonzero;fill:rgb(75%,75%,75%);fill-opacity:1;stroke-width:1;stroke-linecap:butt;stroke-linejoin:miter;stroke:rgb(0%,0%,0%);stroke-opacity:1;stroke-miterlimit:10;\" d=\"M 287.929688 166.636719 C 287.929688 169.949219 285.242188 172.636719 281.929688 172.636719 C 278.613281 172.636719 275.929688 169.949219 275.929688 166.636719 C 275.929688 163.324219 278.613281 160.636719 281.929688 160.636719 C 285.242188 160.636719 287.929688 163.324219 287.929688 166.636719 \"/>\n",
       "<path style=\"fill-rule:nonzero;fill:rgb(75%,75%,75%);fill-opacity:1;stroke-width:1;stroke-linecap:butt;stroke-linejoin:miter;stroke:rgb(0%,0%,0%);stroke-opacity:1;stroke-miterlimit:10;\" d=\"M 191.964844 199.144531 C 191.964844 202.460938 189.277344 205.144531 185.964844 205.144531 C 182.652344 205.144531 179.964844 202.460938 179.964844 199.144531 C 179.964844 195.832031 182.652344 193.144531 185.964844 193.144531 C 189.277344 193.144531 191.964844 195.832031 191.964844 199.144531 \"/>\n",
       "<path style=\"fill-rule:nonzero;fill:rgb(75%,75%,75%);fill-opacity:1;stroke-width:1;stroke-linecap:butt;stroke-linejoin:miter;stroke:rgb(0%,0%,0%);stroke-opacity:1;stroke-miterlimit:10;\" d=\"M 245.496094 190.84375 C 245.496094 194.15625 242.808594 196.84375 239.496094 196.84375 C 236.183594 196.84375 233.496094 194.15625 233.496094 190.84375 C 233.496094 187.53125 236.183594 184.84375 239.496094 184.84375 C 242.808594 184.84375 245.496094 187.53125 245.496094 190.84375 \"/>\n",
       "<path style=\"fill-rule:nonzero;fill:rgb(75%,75%,75%);fill-opacity:1;stroke-width:1;stroke-linecap:butt;stroke-linejoin:miter;stroke:rgb(0%,0%,0%);stroke-opacity:1;stroke-miterlimit:10;\" d=\"M 235.152344 141.992188 C 235.152344 145.304688 232.464844 147.992188 229.152344 147.992188 C 225.839844 147.992188 223.152344 145.304688 223.152344 141.992188 C 223.152344 138.675781 225.839844 135.992188 229.152344 135.992188 C 232.464844 135.992188 235.152344 138.675781 235.152344 141.992188 \"/>\n",
       "<path style=\"fill-rule:nonzero;fill:rgb(41.176471%,41.176471%,41.176471%);fill-opacity:1;stroke-width:1;stroke-linecap:butt;stroke-linejoin:miter;stroke:rgb(0%,0%,0%);stroke-opacity:1;stroke-miterlimit:10;\" d=\"M 114.039063 110.171875 C 114.039063 113.488281 111.355469 116.171875 108.039063 116.171875 C 104.726563 116.171875 102.039063 113.488281 102.039063 110.171875 C 102.039063 106.859375 104.726563 104.171875 108.039063 104.171875 C 111.355469 104.171875 114.039063 106.859375 114.039063 110.171875 \"/>\n",
       "<path style=\"fill-rule:nonzero;fill:rgb(41.176471%,41.176471%,41.176471%);fill-opacity:1;stroke-width:1;stroke-linecap:butt;stroke-linejoin:miter;stroke:rgb(0%,0%,0%);stroke-opacity:1;stroke-miterlimit:10;\" d=\"M 190.921875 78.945313 C 190.921875 82.257813 188.234375 84.945313 184.921875 84.945313 C 181.609375 84.945313 178.921875 82.257813 178.921875 78.945313 C 178.921875 75.628906 181.609375 72.945313 184.921875 72.945313 C 188.234375 72.945313 190.921875 75.628906 190.921875 78.945313 \"/>\n",
       "<path style=\"fill-rule:nonzero;fill:rgb(75%,75%,75%);fill-opacity:1;stroke-width:1;stroke-linecap:butt;stroke-linejoin:miter;stroke:rgb(0%,0%,0%);stroke-opacity:1;stroke-miterlimit:10;\" d=\"M 242.03125 178.476563 C 242.03125 181.792969 239.34375 184.476563 236.03125 184.476563 C 232.714844 184.476563 230.03125 181.792969 230.03125 178.476563 C 230.03125 175.164063 232.714844 172.476563 236.03125 172.476563 C 239.34375 172.476563 242.03125 175.164063 242.03125 178.476563 \"/>\n",
       "<path style=\"fill-rule:nonzero;fill:rgb(75%,75%,75%);fill-opacity:1;stroke-width:1;stroke-linecap:butt;stroke-linejoin:miter;stroke:rgb(0%,0%,0%);stroke-opacity:1;stroke-miterlimit:10;\" d=\"M 99.316406 193.589844 C 99.316406 196.902344 96.628906 199.589844 93.316406 199.589844 C 90.003906 199.589844 87.316406 196.902344 87.316406 193.589844 C 87.316406 190.277344 90.003906 187.589844 93.316406 187.589844 C 96.628906 187.589844 99.316406 190.277344 99.316406 193.589844 \"/>\n",
       "<path style=\"fill-rule:nonzero;fill:rgb(75%,75%,75%);fill-opacity:1;stroke-width:1;stroke-linecap:butt;stroke-linejoin:miter;stroke:rgb(0%,0%,0%);stroke-opacity:1;stroke-miterlimit:10;\" d=\"M 146.550781 187.515625 C 146.550781 190.828125 143.867188 193.515625 140.550781 193.515625 C 137.238281 193.515625 134.550781 190.828125 134.550781 187.515625 C 134.550781 184.203125 137.238281 181.515625 140.550781 181.515625 C 143.867188 181.515625 146.550781 184.203125 146.550781 187.515625 \"/>\n",
       "<path style=\"fill-rule:nonzero;fill:rgb(75%,75%,75%);fill-opacity:1;stroke-width:1;stroke-linecap:butt;stroke-linejoin:miter;stroke:rgb(0%,0%,0%);stroke-opacity:1;stroke-miterlimit:10;\" d=\"M 135.84375 119.078125 C 135.84375 122.390625 133.15625 125.078125 129.84375 125.078125 C 126.527344 125.078125 123.84375 122.390625 123.84375 119.078125 C 123.84375 115.765625 126.527344 113.078125 129.84375 113.078125 C 133.15625 113.078125 135.84375 115.765625 135.84375 119.078125 \"/>\n",
       "<path style=\"fill-rule:nonzero;fill:rgb(41.176471%,41.176471%,41.176471%);fill-opacity:1;stroke-width:1;stroke-linecap:butt;stroke-linejoin:miter;stroke:rgb(0%,0%,0%);stroke-opacity:1;stroke-miterlimit:10;\" d=\"M 93.359375 34.953125 C 93.359375 38.269531 90.671875 40.953125 87.359375 40.953125 C 84.046875 40.953125 81.359375 38.269531 81.359375 34.953125 C 81.359375 31.640625 84.046875 28.953125 87.359375 28.953125 C 90.671875 28.953125 93.359375 31.640625 93.359375 34.953125 \"/>\n",
       "<path style=\"fill-rule:nonzero;fill:rgb(41.176471%,41.176471%,41.176471%);fill-opacity:1;stroke-width:1;stroke-linecap:butt;stroke-linejoin:miter;stroke:rgb(0%,0%,0%);stroke-opacity:1;stroke-miterlimit:10;\" d=\"M 38.800781 56.101563 C 38.800781 59.414063 36.113281 62.101563 32.800781 62.101563 C 29.484375 62.101563 26.800781 59.414063 26.800781 56.101563 C 26.800781 52.785156 29.484375 50.101563 32.800781 50.101563 C 36.113281 50.101563 38.800781 52.785156 38.800781 56.101563 \"/>\n",
       "<path style=\"fill-rule:nonzero;fill:rgb(75%,75%,75%);fill-opacity:1;stroke-width:1;stroke-linecap:butt;stroke-linejoin:miter;stroke:rgb(0%,0%,0%);stroke-opacity:1;stroke-miterlimit:10;\" d=\"M 262.253906 230 C 262.253906 233.3125 259.566406 236 256.253906 236 C 252.9375 236 250.253906 233.3125 250.253906 230 C 250.253906 226.6875 252.9375 224 256.253906 224 C 259.566406 224 262.253906 226.6875 262.253906 230 \"/>\n",
       "<path style=\"fill-rule:nonzero;fill:rgb(75%,75%,75%);fill-opacity:1;stroke-width:1;stroke-linecap:butt;stroke-linejoin:miter;stroke:rgb(0%,0%,0%);stroke-opacity:1;stroke-miterlimit:10;\" d=\"M 45.71875 165.132813 C 45.71875 168.445313 43.03125 171.132813 39.71875 171.132813 C 36.402344 171.132813 33.71875 168.445313 33.71875 165.132813 C 33.71875 161.820313 36.402344 159.132813 39.71875 159.132813 C 43.03125 159.132813 45.71875 161.820313 45.71875 165.132813 \"/>\n",
       "<path style=\"fill-rule:nonzero;fill:rgb(41.176471%,41.176471%,41.176471%);fill-opacity:1;stroke-width:1;stroke-linecap:butt;stroke-linejoin:miter;stroke:rgb(0%,0%,0%);stroke-opacity:1;stroke-miterlimit:10;\" d=\"M 26 70.054688 C 26 73.371094 23.3125 76.054688 20 76.054688 C 16.6875 76.054688 14 73.371094 14 70.054688 C 14 66.742188 16.6875 64.054688 20 64.054688 C 23.3125 64.054688 26 66.742188 26 70.054688 \"/>\n",
       "<path style=\"fill-rule:nonzero;fill:rgb(75%,75%,75%);fill-opacity:1;stroke-width:1;stroke-linecap:butt;stroke-linejoin:miter;stroke:rgb(0%,0%,0%);stroke-opacity:1;stroke-miterlimit:10;\" d=\"M 82.484375 119.023438 C 82.484375 122.335938 79.800781 125.023438 76.484375 125.023438 C 73.171875 125.023438 70.484375 122.335938 70.484375 119.023438 C 70.484375 115.707031 73.171875 113.023438 76.484375 113.023438 C 79.800781 113.023438 82.484375 115.707031 82.484375 119.023438 \"/>\n",
       "<path style=\"fill-rule:nonzero;fill:rgb(41.176471%,41.176471%,41.176471%);fill-opacity:1;stroke-width:1;stroke-linecap:butt;stroke-linejoin:miter;stroke:rgb(0%,0%,0%);stroke-opacity:1;stroke-miterlimit:10;\" d=\"M 61.632813 43.875 C 61.632813 47.1875 58.945313 49.875 55.632813 49.875 C 52.320313 49.875 49.632813 47.1875 49.632813 43.875 C 49.632813 40.558594 52.320313 37.875 55.632813 37.875 C 58.945313 37.875 61.632813 40.558594 61.632813 43.875 \"/>\n",
       "<path style=\"fill-rule:nonzero;fill:rgb(75%,75%,75%);fill-opacity:1;stroke-width:1;stroke-linecap:butt;stroke-linejoin:miter;stroke:rgb(0%,0%,0%);stroke-opacity:1;stroke-miterlimit:10;\" d=\"M 71.179688 176.0625 C 71.179688 179.375 68.492188 182.0625 65.179688 182.0625 C 61.863281 182.0625 59.179688 179.375 59.179688 176.0625 C 59.179688 172.75 61.863281 170.0625 65.179688 170.0625 C 68.492188 170.0625 71.179688 172.75 71.179688 176.0625 \"/>\n",
       "<path style=\"fill-rule:nonzero;fill:rgb(41.176471%,41.176471%,41.176471%);fill-opacity:1;stroke-width:1;stroke-linecap:butt;stroke-linejoin:miter;stroke:rgb(0%,0%,0%);stroke-opacity:1;stroke-miterlimit:10;\" d=\"M 133.089844 32.976563 C 133.089844 36.289063 130.402344 38.976563 127.089844 38.976563 C 123.777344 38.976563 121.089844 36.289063 121.089844 32.976563 C 121.089844 29.660156 123.777344 26.976563 127.089844 26.976563 C 130.402344 26.976563 133.089844 29.660156 133.089844 32.976563 \"/>\n",
       "<path style=\"fill-rule:nonzero;fill:rgb(41.176471%,41.176471%,41.176471%);fill-opacity:1;stroke-width:1;stroke-linecap:butt;stroke-linejoin:miter;stroke:rgb(0%,0%,0%);stroke-opacity:1;stroke-miterlimit:10;\" d=\"M 244.324219 52.601563 C 244.324219 55.914063 241.636719 58.601563 238.324219 58.601563 C 235.011719 58.601563 232.324219 55.914063 232.324219 52.601563 C 232.324219 49.289063 235.011719 46.601563 238.324219 46.601563 C 241.636719 46.601563 244.324219 49.289063 244.324219 52.601563 \"/>\n",
       "<path style=\"fill-rule:nonzero;fill:rgb(41.176471%,41.176471%,41.176471%);fill-opacity:1;stroke-width:1;stroke-linecap:butt;stroke-linejoin:miter;stroke:rgb(0%,0%,0%);stroke-opacity:1;stroke-miterlimit:10;\" d=\"M 336 82.347656 C 336 85.664063 333.3125 88.347656 330 88.347656 C 326.6875 88.347656 324 85.664063 324 82.347656 C 324 79.035156 326.6875 76.347656 330 76.347656 C 333.3125 76.347656 336 79.035156 336 82.347656 \"/>\n",
       "<path style=\"fill-rule:nonzero;fill:rgb(41.176471%,41.176471%,41.176471%);fill-opacity:1;stroke-width:1;stroke-linecap:butt;stroke-linejoin:miter;stroke:rgb(0%,0%,0%);stroke-opacity:1;stroke-miterlimit:10;\" d=\"M 327.199219 98.210938 C 327.199219 101.523438 324.511719 104.210938 321.199219 104.210938 C 317.886719 104.210938 315.199219 101.523438 315.199219 98.210938 C 315.199219 94.894531 317.886719 92.210938 321.199219 92.210938 C 324.511719 92.210938 327.199219 94.894531 327.199219 98.210938 \"/>\n",
       "<path style=\"fill-rule:nonzero;fill:rgb(41.176471%,41.176471%,41.176471%);fill-opacity:1;stroke-width:1;stroke-linecap:butt;stroke-linejoin:miter;stroke:rgb(0%,0%,0%);stroke-opacity:1;stroke-miterlimit:10;\" d=\"M 168.273438 20 C 168.273438 23.3125 165.589844 26 162.273438 26 C 158.960938 26 156.273438 23.3125 156.273438 20 C 156.273438 16.6875 158.960938 14 162.273438 14 C 165.589844 14 168.273438 16.6875 168.273438 20 \"/>\n",
       "<path style=\"fill-rule:nonzero;fill:rgb(41.176471%,41.176471%,41.176471%);fill-opacity:1;stroke-width:1;stroke-linecap:butt;stroke-linejoin:miter;stroke:rgb(0%,0%,0%);stroke-opacity:1;stroke-miterlimit:10;\" d=\"M 252.769531 80.890625 C 252.769531 84.203125 250.085938 86.890625 246.769531 86.890625 C 243.457031 86.890625 240.769531 84.203125 240.769531 80.890625 C 240.769531 77.578125 243.457031 74.890625 246.769531 74.890625 C 250.085938 74.890625 252.769531 77.578125 252.769531 80.890625 \"/>\n",
       "<path style=\"fill-rule:nonzero;fill:rgb(41.176471%,41.176471%,41.176471%);fill-opacity:1;stroke-width:1;stroke-linecap:butt;stroke-linejoin:miter;stroke:rgb(0%,0%,0%);stroke-opacity:1;stroke-miterlimit:10;\" d=\"M 224.164063 79.722656 C 224.164063 83.035156 221.476563 85.722656 218.164063 85.722656 C 214.847656 85.722656 212.164063 83.035156 212.164063 79.722656 C 212.164063 76.410156 214.847656 73.722656 218.164063 73.722656 C 221.476563 73.722656 224.164063 76.410156 224.164063 79.722656 \"/>\n",
       "<path style=\"fill-rule:nonzero;fill:rgb(41.176471%,41.176471%,41.176471%);fill-opacity:1;stroke-width:1;stroke-linecap:butt;stroke-linejoin:miter;stroke:rgb(0%,0%,0%);stroke-opacity:1;stroke-miterlimit:10;\" d=\"M 198.34375 38.078125 C 198.34375 41.390625 195.660156 44.078125 192.34375 44.078125 C 189.03125 44.078125 186.34375 41.390625 186.34375 38.078125 C 186.34375 34.761719 189.03125 32.078125 192.34375 32.078125 C 195.660156 32.078125 198.34375 34.761719 198.34375 38.078125 \"/>\n",
       "<path style=\"fill-rule:nonzero;fill:rgb(41.176471%,41.176471%,41.176471%);fill-opacity:1;stroke-width:1;stroke-linecap:butt;stroke-linejoin:miter;stroke:rgb(0%,0%,0%);stroke-opacity:1;stroke-miterlimit:10;\" d=\"M 54.058594 98.839844 C 54.058594 102.15625 51.375 104.839844 48.058594 104.839844 C 44.746094 104.839844 42.058594 102.15625 42.058594 98.839844 C 42.058594 95.527344 44.746094 92.839844 48.058594 92.839844 C 51.375 92.839844 54.058594 95.527344 54.058594 98.839844 \"/>\n",
       "<path style=\"fill-rule:nonzero;fill:rgb(41.176471%,41.176471%,41.176471%);fill-opacity:1;stroke-width:1;stroke-linecap:butt;stroke-linejoin:miter;stroke:rgb(0%,0%,0%);stroke-opacity:1;stroke-miterlimit:10;\" d=\"M 223.816406 106.785156 C 223.816406 110.097656 221.132813 112.785156 217.816406 112.785156 C 214.503906 112.785156 211.816406 110.097656 211.816406 106.785156 C 211.816406 103.472656 214.503906 100.785156 217.816406 100.785156 C 221.132813 100.785156 223.816406 103.472656 223.816406 106.785156 \"/>\n",
       "<path style=\"fill-rule:nonzero;fill:rgb(41.176471%,41.176471%,41.176471%);fill-opacity:1;stroke-width:1;stroke-linecap:butt;stroke-linejoin:miter;stroke:rgb(0%,0%,0%);stroke-opacity:1;stroke-miterlimit:10;\" d=\"M 121.121094 73.40625 C 121.121094 76.71875 118.433594 79.40625 115.121094 79.40625 C 111.804688 79.40625 109.121094 76.71875 109.121094 73.40625 C 109.121094 70.09375 111.804688 67.40625 115.121094 67.40625 C 118.433594 67.40625 121.121094 70.09375 121.121094 73.40625 \"/>\n",
       "<path style=\"fill-rule:nonzero;fill:rgb(41.176471%,41.176471%,41.176471%);fill-opacity:1;stroke-width:1;stroke-linecap:butt;stroke-linejoin:miter;stroke:rgb(0%,0%,0%);stroke-opacity:1;stroke-miterlimit:10;\" d=\"M 142.519531 70.777344 C 142.519531 74.089844 139.832031 76.777344 136.519531 76.777344 C 133.207031 76.777344 130.519531 74.089844 130.519531 70.777344 C 130.519531 67.464844 133.207031 64.777344 136.519531 64.777344 C 139.832031 64.777344 142.519531 67.464844 142.519531 70.777344 \"/>\n",
       "<g style=\"fill:rgb(0%,0%,0%);fill-opacity:1;\">\n",
       "  <use xlink:href=\"#glyph0-1\" x=\"155.214844\" y=\"158.910156\"/>\n",
       "</g>\n",
       "<g style=\"fill:rgb(0%,0%,0%);fill-opacity:1;\">\n",
       "  <use xlink:href=\"#glyph0-2\" x=\"99.636719\" y=\"146.882813\"/>\n",
       "</g>\n",
       "<g style=\"fill:rgb(0%,0%,0%);fill-opacity:1;\">\n",
       "  <use xlink:href=\"#glyph0-3\" x=\"176.367188\" y=\"117.816406\"/>\n",
       "</g>\n",
       "<g style=\"fill:rgb(0%,0%,0%);fill-opacity:1;\">\n",
       "  <use xlink:href=\"#glyph0-4\" x=\"177.53125\" y=\"149.273438\"/>\n",
       "</g>\n",
       "<g style=\"fill:rgb(0%,0%,0%);fill-opacity:1;\">\n",
       "  <use xlink:href=\"#glyph0-5\" x=\"279.847656\" y=\"170.5\"/>\n",
       "</g>\n",
       "<g style=\"fill:rgb(0%,0%,0%);fill-opacity:1;\">\n",
       "  <use xlink:href=\"#glyph0-6\" x=\"183.734375\" y=\"202.96875\"/>\n",
       "</g>\n",
       "<g style=\"fill:rgb(0%,0%,0%);fill-opacity:1;\">\n",
       "  <use xlink:href=\"#glyph0-7\" x=\"237.304688\" y=\"194.71875\"/>\n",
       "</g>\n",
       "<g style=\"fill:rgb(0%,0%,0%);fill-opacity:1;\">\n",
       "  <use xlink:href=\"#glyph0-8\" x=\"226.917969\" y=\"145.816406\"/>\n",
       "</g>\n",
       "<g style=\"fill:rgb(0%,0%,0%);fill-opacity:1;\">\n",
       "  <use xlink:href=\"#glyph0-9\" x=\"105.828125\" y=\"114.046875\"/>\n",
       "</g>\n",
       "<g style=\"fill:rgb(0%,0%,0%);fill-opacity:1;\">\n",
       "  <use xlink:href=\"#glyph0-10\" x=\"182.707031\" y=\"82.820313\"/>\n",
       "</g>\n",
       "<g style=\"fill:rgb(0%,0%,0%);fill-opacity:1;\">\n",
       "  <use xlink:href=\"#glyph0-2\" x=\"231.335938\" y=\"182.351563\"/>\n",
       "  <use xlink:href=\"#glyph0-1\" x=\"235.785156\" y=\"182.351563\"/>\n",
       "</g>\n",
       "<g style=\"fill:rgb(0%,0%,0%);fill-opacity:1;\">\n",
       "  <use xlink:href=\"#glyph0-2\" x=\"89.167969\" y=\"197.464844\"/>\n",
       "  <use xlink:href=\"#glyph0-2\" x=\"93.617188\" y=\"197.464844\"/>\n",
       "</g>\n",
       "<g style=\"fill:rgb(0%,0%,0%);fill-opacity:1;\">\n",
       "  <use xlink:href=\"#glyph0-2\" x=\"135.878906\" y=\"191.390625\"/>\n",
       "  <use xlink:href=\"#glyph0-3\" x=\"140.328125\" y=\"191.390625\"/>\n",
       "</g>\n",
       "<g style=\"fill:rgb(0%,0%,0%);fill-opacity:1;\">\n",
       "  <use xlink:href=\"#glyph0-2\" x=\"125.140625\" y=\"122.953125\"/>\n",
       "  <use xlink:href=\"#glyph0-4\" x=\"129.589844\" y=\"122.953125\"/>\n",
       "</g>\n",
       "<g style=\"fill:rgb(0%,0%,0%);fill-opacity:1;\">\n",
       "  <use xlink:href=\"#glyph0-2\" x=\"82.667969\" y=\"38.828125\"/>\n",
       "  <use xlink:href=\"#glyph0-5\" x=\"87.117188\" y=\"38.828125\"/>\n",
       "</g>\n",
       "<g style=\"fill:rgb(0%,0%,0%);fill-opacity:1;\">\n",
       "  <use xlink:href=\"#glyph0-2\" x=\"28.074219\" y=\"59.976563\"/>\n",
       "  <use xlink:href=\"#glyph0-6\" x=\"32.523438\" y=\"59.976563\"/>\n",
       "</g>\n",
       "<g style=\"fill:rgb(0%,0%,0%);fill-opacity:1;\">\n",
       "  <use xlink:href=\"#glyph0-2\" x=\"251.550781\" y=\"233.875\"/>\n",
       "  <use xlink:href=\"#glyph0-7\" x=\"256\" y=\"233.875\"/>\n",
       "</g>\n",
       "<g style=\"fill:rgb(0%,0%,0%);fill-opacity:1;\">\n",
       "  <use xlink:href=\"#glyph0-2\" x=\"35.015625\" y=\"169.007813\"/>\n",
       "  <use xlink:href=\"#glyph0-8\" x=\"39.464844\" y=\"169.007813\"/>\n",
       "</g>\n",
       "<g style=\"fill:rgb(0%,0%,0%);fill-opacity:1;\">\n",
       "  <use xlink:href=\"#glyph0-2\" x=\"15.289063\" y=\"73.929688\"/>\n",
       "  <use xlink:href=\"#glyph0-9\" x=\"19.738281\" y=\"73.929688\"/>\n",
       "</g>\n",
       "<g style=\"fill:rgb(0%,0%,0%);fill-opacity:1;\">\n",
       "  <use xlink:href=\"#glyph0-2\" x=\"71.777344\" y=\"122.898438\"/>\n",
       "  <use xlink:href=\"#glyph0-10\" x=\"76.226563\" y=\"122.898438\"/>\n",
       "</g>\n",
       "<g style=\"fill:rgb(0%,0%,0%);fill-opacity:1;\">\n",
       "  <use xlink:href=\"#glyph0-3\" x=\"51.257813\" y=\"47.75\"/>\n",
       "  <use xlink:href=\"#glyph0-1\" x=\"55.707031\" y=\"47.75\"/>\n",
       "</g>\n",
       "<g style=\"fill:rgb(0%,0%,0%);fill-opacity:1;\">\n",
       "  <use xlink:href=\"#glyph0-3\" x=\"61.347656\" y=\"179.9375\"/>\n",
       "  <use xlink:href=\"#glyph0-2\" x=\"65.796875\" y=\"179.9375\"/>\n",
       "</g>\n",
       "<g style=\"fill:rgb(0%,0%,0%);fill-opacity:1;\">\n",
       "  <use xlink:href=\"#glyph0-3\" x=\"122.734375\" y=\"36.851563\"/>\n",
       "  <use xlink:href=\"#glyph0-3\" x=\"127.183594\" y=\"36.851563\"/>\n",
       "</g>\n",
       "<g style=\"fill:rgb(0%,0%,0%);fill-opacity:1;\">\n",
       "  <use xlink:href=\"#glyph0-3\" x=\"233.9375\" y=\"56.476563\"/>\n",
       "  <use xlink:href=\"#glyph0-4\" x=\"238.386719\" y=\"56.476563\"/>\n",
       "</g>\n",
       "<g style=\"fill:rgb(0%,0%,0%);fill-opacity:1;\">\n",
       "  <use xlink:href=\"#glyph0-3\" x=\"325.625\" y=\"86.222656\"/>\n",
       "  <use xlink:href=\"#glyph0-5\" x=\"330.074219\" y=\"86.222656\"/>\n",
       "</g>\n",
       "<g style=\"fill:rgb(0%,0%,0%);fill-opacity:1;\">\n",
       "  <use xlink:href=\"#glyph0-3\" x=\"316.792969\" y=\"102.085938\"/>\n",
       "  <use xlink:href=\"#glyph0-6\" x=\"321.242188\" y=\"102.085938\"/>\n",
       "</g>\n",
       "<g style=\"fill:rgb(0%,0%,0%);fill-opacity:1;\">\n",
       "  <use xlink:href=\"#glyph0-3\" x=\"157.890625\" y=\"23.875\"/>\n",
       "  <use xlink:href=\"#glyph0-7\" x=\"162.339844\" y=\"23.875\"/>\n",
       "</g>\n",
       "<g style=\"fill:rgb(0%,0%,0%);fill-opacity:1;\">\n",
       "  <use xlink:href=\"#glyph0-3\" x=\"242.386719\" y=\"84.765625\"/>\n",
       "  <use xlink:href=\"#glyph0-8\" x=\"246.835938\" y=\"84.765625\"/>\n",
       "</g>\n",
       "<g style=\"fill:rgb(0%,0%,0%);fill-opacity:1;\">\n",
       "  <use xlink:href=\"#glyph0-3\" x=\"213.773438\" y=\"83.597656\"/>\n",
       "  <use xlink:href=\"#glyph0-9\" x=\"218.222656\" y=\"83.597656\"/>\n",
       "</g>\n",
       "<g style=\"fill:rgb(0%,0%,0%);fill-opacity:1;\">\n",
       "  <use xlink:href=\"#glyph0-3\" x=\"187.953125\" y=\"41.953125\"/>\n",
       "  <use xlink:href=\"#glyph0-10\" x=\"192.402344\" y=\"41.953125\"/>\n",
       "</g>\n",
       "<g style=\"fill:rgb(0%,0%,0%);fill-opacity:1;\">\n",
       "  <use xlink:href=\"#glyph0-4\" x=\"43.632813\" y=\"102.714844\"/>\n",
       "  <use xlink:href=\"#glyph0-1\" x=\"48.082031\" y=\"102.714844\"/>\n",
       "</g>\n",
       "<g style=\"fill:rgb(0%,0%,0%);fill-opacity:1;\">\n",
       "  <use xlink:href=\"#glyph0-4\" x=\"213.933594\" y=\"110.660156\"/>\n",
       "  <use xlink:href=\"#glyph0-2\" x=\"218.382813\" y=\"110.660156\"/>\n",
       "</g>\n",
       "<g style=\"fill:rgb(0%,0%,0%);fill-opacity:1;\">\n",
       "  <use xlink:href=\"#glyph0-4\" x=\"110.714844\" y=\"77.28125\"/>\n",
       "  <use xlink:href=\"#glyph0-3\" x=\"115.164063\" y=\"77.28125\"/>\n",
       "</g>\n",
       "<g style=\"fill:rgb(0%,0%,0%);fill-opacity:1;\">\n",
       "  <use xlink:href=\"#glyph0-4\" x=\"132.085938\" y=\"74.652344\"/>\n",
       "  <use xlink:href=\"#glyph0-4\" x=\"136.535156\" y=\"74.652344\"/>\n",
       "</g>\n",
       "</g>\n",
       "</svg>\n"
      ],
      "text/plain": [
       "<igraph.drawing.cairo.plot.CairoPlot at 0x22662b01bb0>"
      ]
     },
     "execution_count": 5,
     "metadata": {
      "image/svg+xml": {
       "isolated": true
      }
     },
     "output_type": "execute_result"
    }
   ],
   "source": [
    "z = ig.Graph.Famous('zachary')\n",
    "z.vs['size'] = 12\n",
    "z.vs['name'] = [str(i) for i in range(z.vcount())]\n",
    "z.vs['label'] = [str(i) for i in range(z.vcount())]\n",
    "z.vs['label_size'] = 8\n",
    "z.es['color'] = cls_edges\n",
    "z.vs['comm'] = [0,0,0,0,0,0,0,0,1,1,0,0,0,0,1,1,0,0,1,0,1,0,1,1,1,1,1,1,1,1,1,1,1,1]\n",
    "z.vs['color'] = [cls[i] for i in z.vs['comm']]\n",
    "#ig.plot(z, 'zachary_gt.eps', bbox=(0,0,300,200))\n",
    "ig.plot(z, bbox=(0,0,350,250))"
   ]
  },
  {
   "cell_type": "code",
   "execution_count": 6,
   "id": "6f349af3",
   "metadata": {},
   "outputs": [],
   "source": [
    "ground_truth = z.vs['comm']\n",
    "Scores = []"
   ]
  },
  {
   "cell_type": "code",
   "execution_count": 7,
   "id": "7543bfbb",
   "metadata": {},
   "outputs": [
    {
     "name": "stdout",
     "output_type": "stream",
     "text": [
      "0.5653497612707895\n"
     ]
    }
   ],
   "source": [
    "# applying ECG algorithm on Karate club graph\n",
    "ecg = z.community_ecg().membership\n",
    "AMI_ecg = AMI(ecg, ground_truth)\n",
    "print(AMI_ecg)\n",
    "Scores.append([\"ECG\", AMI_ecg])"
   ]
  },
  {
   "cell_type": "code",
   "execution_count": 8,
   "id": "829d3f55",
   "metadata": {},
   "outputs": [
    {
     "name": "stdout",
     "output_type": "stream",
     "text": [
      "0.5805154226518419\n"
     ]
    }
   ],
   "source": [
    "# applying Louvain algorithm\n",
    "Louvain = z.community_multilevel().membership\n",
    "AMI_Louvain = AMI(Louvain, ground_truth)\n",
    "print(AMI_Louvain)\n",
    "Scores.append([\"Louvain\", AMI_Louvain])"
   ]
  },
  {
   "cell_type": "code",
   "execution_count": 9,
   "id": "89012879",
   "metadata": {},
   "outputs": [
    {
     "name": "stdout",
     "output_type": "stream",
     "text": [
      "0.6874223479049212\n"
     ]
    }
   ],
   "source": [
    "# applying InfoMap algorithm\n",
    "InfoMap = z.community_infomap().membership\n",
    "AMI_InfoMap = AMI(InfoMap, ground_truth)\n",
    "print(AMI_InfoMap)\n",
    "Scores.append([\"Infomap\", AMI_InfoMap])"
   ]
  },
  {
   "cell_type": "code",
   "execution_count": 10,
   "id": "8cd9a7f5",
   "metadata": {},
   "outputs": [
    {
     "name": "stdout",
     "output_type": "stream",
     "text": [
      "0.20149072779609306\n"
     ]
    }
   ],
   "source": [
    "# applying Label Propagation algorithm\n",
    "Lpl = z.community_label_propagation().membership\n",
    "AMI_Lpl = AMI(Lpl, ground_truth)\n",
    "print(AMI_Lpl)\n",
    "Scores.append([\"Label Propagation\", AMI_Lpl])"
   ]
  },
  {
   "cell_type": "code",
   "execution_count": 11,
   "id": "b5812819",
   "metadata": {},
   "outputs": [
    {
     "name": "stdout",
     "output_type": "stream",
     "text": [
      "0.5499173029289166\n"
     ]
    }
   ],
   "source": [
    "# applying Girvan-Newman algorithm\n",
    "GirNew = z.community_edge_betweenness().as_clustering().membership\n",
    "AMI_GirNew = AMI(GirNew, ground_truth)\n",
    "print(AMI_GirNew)\n",
    "Scores.append([\"Girvan-Newman\", AMI_GirNew])"
   ]
  },
  {
   "cell_type": "code",
   "execution_count": 12,
   "id": "17150e6d",
   "metadata": {},
   "outputs": [
    {
     "name": "stdout",
     "output_type": "stream",
     "text": [
      "0.6807645098886008\n"
     ]
    }
   ],
   "source": [
    "# applying CNM algorithm\n",
    "cnm = z.community_fastgreedy().as_clustering().membership\n",
    "AMI_cnm = AMI(cnm, ground_truth)\n",
    "print(AMI_cnm)\n",
    "Scores.append([\"CNM\", AMI_cnm])"
   ]
  },
  {
   "cell_type": "code",
   "execution_count": 14,
   "id": "c81622b7",
   "metadata": {},
   "outputs": [
    {
     "data": {
      "text/html": [
       "<div>\n",
       "<style scoped>\n",
       "    .dataframe tbody tr th:only-of-type {\n",
       "        vertical-align: middle;\n",
       "    }\n",
       "\n",
       "    .dataframe tbody tr th {\n",
       "        vertical-align: top;\n",
       "    }\n",
       "\n",
       "    .dataframe thead th {\n",
       "        text-align: right;\n",
       "    }\n",
       "</style>\n",
       "<table border=\"1\" class=\"dataframe\">\n",
       "  <thead>\n",
       "    <tr style=\"text-align: right;\">\n",
       "      <th></th>\n",
       "      <th>Algorithm</th>\n",
       "      <th>AMI Score</th>\n",
       "    </tr>\n",
       "  </thead>\n",
       "  <tbody>\n",
       "    <tr>\n",
       "      <th>0</th>\n",
       "      <td>ECG</td>\n",
       "      <td>0.565350</td>\n",
       "    </tr>\n",
       "    <tr>\n",
       "      <th>1</th>\n",
       "      <td>Louvain</td>\n",
       "      <td>0.580515</td>\n",
       "    </tr>\n",
       "    <tr>\n",
       "      <th>2</th>\n",
       "      <td>Infomap</td>\n",
       "      <td>0.687422</td>\n",
       "    </tr>\n",
       "    <tr>\n",
       "      <th>3</th>\n",
       "      <td>Label Propagation</td>\n",
       "      <td>0.201491</td>\n",
       "    </tr>\n",
       "    <tr>\n",
       "      <th>4</th>\n",
       "      <td>Girvan-Newman</td>\n",
       "      <td>0.549917</td>\n",
       "    </tr>\n",
       "    <tr>\n",
       "      <th>5</th>\n",
       "      <td>CNM</td>\n",
       "      <td>0.680765</td>\n",
       "    </tr>\n",
       "  </tbody>\n",
       "</table>\n",
       "</div>"
      ],
      "text/plain": [
       "           Algorithm  AMI Score\n",
       "0                ECG   0.565350\n",
       "1            Louvain   0.580515\n",
       "2            Infomap   0.687422\n",
       "3  Label Propagation   0.201491\n",
       "4      Girvan-Newman   0.549917\n",
       "5                CNM   0.680765"
      ]
     },
     "execution_count": 14,
     "metadata": {},
     "output_type": "execute_result"
    }
   ],
   "source": [
    "Scores\n",
    "D = pd.DataFrame(Scores, columns = [\"Algorithm\", \"AMI Score\"])\n",
    "D"
   ]
  },
  {
   "cell_type": "markdown",
   "id": "2de1c62e",
   "metadata": {},
   "source": [
    "In the above table we can see that the Label Propagation AMI score:0.833466 is the highest suggesting that it identifies the community structure almost similiar to the ground truth."
   ]
  },
  {
   "cell_type": "markdown",
   "id": "17f53998",
   "metadata": {},
   "source": [
    "# Question 2"
   ]
  },
  {
   "cell_type": "code",
   "execution_count": 16,
   "id": "2a80d4fa",
   "metadata": {},
   "outputs": [
    {
     "name": "stdout",
     "output_type": "stream",
     "text": [
      "GitHub nodes: 37700 ; ml developers: 9739\n"
     ]
    }
   ],
   "source": [
    "## read the GitHub edge list as tuples and build undirected graph\n",
    "D = pd.read_csv('musae_git_edges.csv')\n",
    "tuples = [tuple(x) for x in D.values]\n",
    "gh = ig.Graph.TupleList(tuples, directed = False)\n",
    "\n",
    "## read node features\n",
    "X = pd.read_csv('musae_git_target.csv')\n",
    "\n",
    "## map node names in edgelist to indices in the graph\n",
    "idx = [int(i) for i in gh.vs['name']]\n",
    "sorterIndex = dict(zip(idx,range(len(idx))))\n",
    "X['Rank'] = X['id'].map(sorterIndex) \n",
    "X.sort_values(['Rank'], ascending=[True],inplace=True)\n",
    "X.dropna(inplace=True)\n",
    "\n",
    "cls = ['grey','black'] ## node colors\n",
    "lbl = ['web','ml']     ## node labels\n",
    "gh.es['color'] = 'grey' ## edge color\n",
    "\n",
    "## there are 2 node types: ml or web\n",
    "gh.vs['color'] = [cls[i] for i in list(X['ml_target'])]\n",
    "gh.vs['lbl'] = [lbl[i] for i in list(X['ml_target'])]\n",
    "\n",
    "## build the subgraphs\n",
    "gh_ml = gh.subgraph([v for v in gh.vs() if v['lbl']=='ml'])\n",
    "print('GitHub nodes:',gh.vcount(),'; ml developers:',gh_ml.vcount())"
   ]
  },
  {
   "cell_type": "code",
   "execution_count": 17,
   "id": "f6f84d6a",
   "metadata": {},
   "outputs": [],
   "source": [
    "# applying all the algorithms on Github ml graph\n",
    "ecg_ml = gh_ml.community_ecg().membership"
   ]
  },
  {
   "cell_type": "code",
   "execution_count": 18,
   "id": "8567ae1b",
   "metadata": {},
   "outputs": [],
   "source": [
    "Louvain_ml = gh_ml.community_multilevel().membership"
   ]
  },
  {
   "cell_type": "code",
   "execution_count": 19,
   "id": "1bdf8e2a",
   "metadata": {},
   "outputs": [],
   "source": [
    "InfoMap_ml = gh_ml.community_infomap().membership"
   ]
  },
  {
   "cell_type": "code",
   "execution_count": 20,
   "id": "3372341a",
   "metadata": {},
   "outputs": [],
   "source": [
    "Lpl_ml = gh_ml.community_label_propagation().membership"
   ]
  },
  {
   "cell_type": "code",
   "execution_count": null,
   "id": "f4d6c5fd",
   "metadata": {},
   "outputs": [],
   "source": [
    "#GirNew_ml = gh_ml.community_edge_betweenness().as_clustering().membership\n",
    "# GN takes >1 day to run!"
   ]
  },
  {
   "cell_type": "code",
   "execution_count": 21,
   "id": "20846d1c",
   "metadata": {},
   "outputs": [],
   "source": [
    "cnm_ml = gh_ml.community_fastgreedy().as_clustering().membership"
   ]
  },
  {
   "cell_type": "code",
   "execution_count": 22,
   "id": "c83c5ae3",
   "metadata": {},
   "outputs": [],
   "source": [
    "# Finding pair wise AMI Score for all the algorithms\n",
    "Scores_pairs = []\n",
    "Scores_pairs.append([\"ECG\", \"Louvain\", AMI(ecg_ml, Louvain_ml)])\n",
    "Scores_pairs.append([\"ECG\", \"InfoMap\", AMI(ecg_ml, InfoMap_ml)])\n",
    "Scores_pairs.append([\"ECG\", \"Label Propagation\", AMI(ecg_ml, Lpl_ml)])\n",
    "#Scores_pairs.append([\"ECG\", \"Girvan-Newman\", AMI(ecg_ml, GirNew_ml)])\n",
    "Scores_pairs.append([\"ECG\", \"CNM\", AMI(ecg_ml, cnm_ml)])\n",
    "Scores_pairs.append([\"Louvain\", \"InfoMap\", AMI(Louvain_ml, InfoMap_ml)])\n",
    "Scores_pairs.append([\"Louvain\", \"Label Propagation\", AMI(Louvain_ml, Lpl_ml)])\n",
    "#Scores_pairs.append([\"Louvain\", \"Girvan-Newman\", AMI(Louvain_ml, GirNew_ml)])\n",
    "Scores_pairs.append([\"Louvain\", \"CNM\", AMI(Louvain_ml, cnm_ml)])\n",
    "Scores_pairs.append([\"InfoMap\", \"Label Propagation\", AMI(InfoMap_ml, Lpl_ml)])\n",
    "#Scores_pairs.append([\"InfoMap\", \"Girvan-Newman\", AMI(InfoMap_ml, GirNew_ml)])\n",
    "Scores_pairs.append([\"InfoMap\", \"CNM\", AMI(InfoMap_ml, cnm_ml)])\n",
    "#Scores_pairs.append([\"Label Propagation\", \"Girvan-Newman\", AMI(Lpl_ml, GirNew_ml)])\n",
    "Scores_pairs.append([\"Label Propagation\", \"CNM\", AMI(Lpl_ml, cnm_ml)])\n",
    "#Scores_pairs.append([\"Girvan-Newman\", \"CNM\", AMI(GirNew_ml, cnm_ml)])"
   ]
  },
  {
   "cell_type": "code",
   "execution_count": 23,
   "id": "e707d42f",
   "metadata": {},
   "outputs": [
    {
     "data": {
      "text/html": [
       "<div>\n",
       "<style scoped>\n",
       "    .dataframe tbody tr th:only-of-type {\n",
       "        vertical-align: middle;\n",
       "    }\n",
       "\n",
       "    .dataframe tbody tr th {\n",
       "        vertical-align: top;\n",
       "    }\n",
       "\n",
       "    .dataframe thead th {\n",
       "        text-align: right;\n",
       "    }\n",
       "</style>\n",
       "<table border=\"1\" class=\"dataframe\">\n",
       "  <thead>\n",
       "    <tr style=\"text-align: right;\">\n",
       "      <th></th>\n",
       "      <th>Algorithm1</th>\n",
       "      <th>Algorithm2</th>\n",
       "      <th>AMI Score</th>\n",
       "    </tr>\n",
       "  </thead>\n",
       "  <tbody>\n",
       "    <tr>\n",
       "      <th>0</th>\n",
       "      <td>ECG</td>\n",
       "      <td>Louvain</td>\n",
       "      <td>0.629947</td>\n",
       "    </tr>\n",
       "    <tr>\n",
       "      <th>1</th>\n",
       "      <td>ECG</td>\n",
       "      <td>InfoMap</td>\n",
       "      <td>0.568062</td>\n",
       "    </tr>\n",
       "    <tr>\n",
       "      <th>2</th>\n",
       "      <td>ECG</td>\n",
       "      <td>Label Propagation</td>\n",
       "      <td>0.488016</td>\n",
       "    </tr>\n",
       "    <tr>\n",
       "      <th>3</th>\n",
       "      <td>ECG</td>\n",
       "      <td>CNM</td>\n",
       "      <td>0.536424</td>\n",
       "    </tr>\n",
       "    <tr>\n",
       "      <th>4</th>\n",
       "      <td>Louvain</td>\n",
       "      <td>InfoMap</td>\n",
       "      <td>0.499681</td>\n",
       "    </tr>\n",
       "    <tr>\n",
       "      <th>5</th>\n",
       "      <td>Louvain</td>\n",
       "      <td>Label Propagation</td>\n",
       "      <td>0.572733</td>\n",
       "    </tr>\n",
       "    <tr>\n",
       "      <th>6</th>\n",
       "      <td>Louvain</td>\n",
       "      <td>CNM</td>\n",
       "      <td>0.576453</td>\n",
       "    </tr>\n",
       "    <tr>\n",
       "      <th>7</th>\n",
       "      <td>InfoMap</td>\n",
       "      <td>Label Propagation</td>\n",
       "      <td>0.285687</td>\n",
       "    </tr>\n",
       "    <tr>\n",
       "      <th>8</th>\n",
       "      <td>InfoMap</td>\n",
       "      <td>CNM</td>\n",
       "      <td>0.466473</td>\n",
       "    </tr>\n",
       "    <tr>\n",
       "      <th>9</th>\n",
       "      <td>Label Propagation</td>\n",
       "      <td>CNM</td>\n",
       "      <td>0.588858</td>\n",
       "    </tr>\n",
       "  </tbody>\n",
       "</table>\n",
       "</div>"
      ],
      "text/plain": [
       "          Algorithm1         Algorithm2  AMI Score\n",
       "0                ECG            Louvain   0.629947\n",
       "1                ECG            InfoMap   0.568062\n",
       "2                ECG  Label Propagation   0.488016\n",
       "3                ECG                CNM   0.536424\n",
       "4            Louvain            InfoMap   0.499681\n",
       "5            Louvain  Label Propagation   0.572733\n",
       "6            Louvain                CNM   0.576453\n",
       "7            InfoMap  Label Propagation   0.285687\n",
       "8            InfoMap                CNM   0.466473\n",
       "9  Label Propagation                CNM   0.588858"
      ]
     },
     "execution_count": 23,
     "metadata": {},
     "output_type": "execute_result"
    }
   ],
   "source": [
    "D2 = pd.DataFrame(Scores_pairs, columns = [\"Algorithm1\", \"Algorithm2\", \"AMI Score\"])\n",
    "D2"
   ]
  },
  {
   "cell_type": "markdown",
   "id": "d9171465",
   "metadata": {},
   "source": [
    "The AMI score for the algorithm pairs of:\n",
    "ECG-Louvain,\n",
    "ECG-InforMap,\n",
    "ECG-CNM,\n",
    "Louvain-Label Propagation,\n",
    "Louvain-CNM, \n",
    "Label Propagation-CNM returned similar results with an AMI score of greater than 0.5."
   ]
  },
  {
   "cell_type": "markdown",
   "id": "b687623b",
   "metadata": {},
   "source": [
    "## Question 5"
   ]
  },
  {
   "cell_type": "code",
   "execution_count": 3,
   "id": "50c352ec",
   "metadata": {},
   "outputs": [],
   "source": [
    "## read graph and communities; plot\n",
    "g = ig.Graph.Read_Ncol(datadir+'ABCD/abcd_1000.dat',directed=False)\n",
    "c = np.loadtxt(datadir+'ABCD/abcd_1000_comms.dat',dtype='uint16',usecols=(1))\n",
    "g.vs['comm'] = [c[int(x['name'])-1]-1 for x in g.vs]\n",
    "gt = {k:(v-1) for k,v in enumerate(g.vs['comm'])}\n",
    "## map between int(name) to key\n",
    "n2k = {int(v):k for k,v in enumerate(g.vs['name'])}\n",
    "g.vs['size'] = 3\n",
    "##g.es['color'] = cls_edges\n",
    "##g.vs['color'] = [cls[i] for i in g.vs['comm']]\n",
    "##ig.plot(g, bbox=(0,0,300,200))"
   ]
  },
  {
   "cell_type": "code",
   "execution_count": 4,
   "id": "86833157",
   "metadata": {
    "scrolled": true
   },
   "outputs": [
    {
     "data": {
      "text/html": [
       "<div>\n",
       "<style scoped>\n",
       "    .dataframe tbody tr th:only-of-type {\n",
       "        vertical-align: middle;\n",
       "    }\n",
       "\n",
       "    .dataframe tbody tr th {\n",
       "        vertical-align: top;\n",
       "    }\n",
       "\n",
       "    .dataframe thead th {\n",
       "        text-align: right;\n",
       "    }\n",
       "</style>\n",
       "<table border=\"1\" class=\"dataframe\">\n",
       "  <thead>\n",
       "    <tr style=\"text-align: right;\">\n",
       "      <th></th>\n",
       "      <th>z</th>\n",
       "      <th>p</th>\n",
       "    </tr>\n",
       "  </thead>\n",
       "  <tbody>\n",
       "    <tr>\n",
       "      <th>61</th>\n",
       "      <td>5.738789</td>\n",
       "      <td>0.497449</td>\n",
       "    </tr>\n",
       "    <tr>\n",
       "      <th>74</th>\n",
       "      <td>5.339659</td>\n",
       "      <td>0.499260</td>\n",
       "    </tr>\n",
       "    <tr>\n",
       "      <th>176</th>\n",
       "      <td>4.938409</td>\n",
       "      <td>0.484757</td>\n",
       "    </tr>\n",
       "    <tr>\n",
       "      <th>206</th>\n",
       "      <td>4.806462</td>\n",
       "      <td>0.495465</td>\n",
       "    </tr>\n",
       "    <tr>\n",
       "      <th>95</th>\n",
       "      <td>4.678961</td>\n",
       "      <td>0.491493</td>\n",
       "    </tr>\n",
       "  </tbody>\n",
       "</table>\n",
       "</div>"
      ],
      "text/plain": [
       "            z         p\n",
       "61   5.738789  0.497449\n",
       "74   5.339659  0.499260\n",
       "176  4.938409  0.484757\n",
       "206  4.806462  0.495465\n",
       "95   4.678961  0.491493"
      ]
     },
     "execution_count": 4,
     "metadata": {},
     "output_type": "execute_result"
    }
   ],
   "source": [
    "## compute internal degrees\n",
    "in_deg_0 = g.subgraph_edges([e for e in g.es if g.vs['comm'][e.tuple[0]]==0 and g.vs['comm'][e.tuple[1]]==0],\n",
    "                            delete_vertices=False).degree()\n",
    "in_deg_1 = g.subgraph_edges([e for e in g.es if g.vs['comm'][e.tuple[0]]==1 and g.vs['comm'][e.tuple[1]]==1],\n",
    "                            delete_vertices=False).degree()\n",
    "in_deg_2 = g.subgraph_edges([e for e in g.es if g.vs['comm'][e.tuple[0]]==2 and g.vs['comm'][e.tuple[1]]==2],\n",
    "                            delete_vertices=False).degree()\n",
    "in_deg_3 = g.subgraph_edges([e for e in g.es if g.vs['comm'][e.tuple[0]]==3 and g.vs['comm'][e.tuple[1]]==3],\n",
    "                            delete_vertices=False).degree()\n",
    "in_deg_4 = g.subgraph_edges([e for e in g.es if g.vs['comm'][e.tuple[0]]==4 and g.vs['comm'][e.tuple[1]]==4],\n",
    "                            delete_vertices=False).degree()\n",
    "in_deg_5 = g.subgraph_edges([e for e in g.es if g.vs['comm'][e.tuple[0]]==5 and g.vs['comm'][e.tuple[1]]==5],\n",
    "                            delete_vertices=False).degree()\n",
    "in_deg_6 = g.subgraph_edges([e for e in g.es if g.vs['comm'][e.tuple[0]]==6 and g.vs['comm'][e.tuple[1]]==6],\n",
    "                            delete_vertices=False).degree()\n",
    "in_deg_7 = g.subgraph_edges([e for e in g.es if g.vs['comm'][e.tuple[0]]==7 and g.vs['comm'][e.tuple[1]]==7],\n",
    "                            delete_vertices=False).degree()\n",
    "in_deg_8 = g.subgraph_edges([e for e in g.es if g.vs['comm'][e.tuple[0]]==8 and g.vs['comm'][e.tuple[1]]==8],\n",
    "                            delete_vertices=False).degree()\n",
    "in_deg_9 = g.subgraph_edges([e for e in g.es if g.vs['comm'][e.tuple[0]]==9 and g.vs['comm'][e.tuple[1]]==9],\n",
    "                            delete_vertices=False).degree()\n",
    "in_deg_10 = g.subgraph_edges([e for e in g.es if g.vs['comm'][e.tuple[0]]==10 and g.vs['comm'][e.tuple[1]]==10],\n",
    "                            delete_vertices=False).degree()\n",
    "in_deg_11 = g.subgraph_edges([e for e in g.es if g.vs['comm'][e.tuple[0]]==11 and g.vs['comm'][e.tuple[1]]==11],\n",
    "                            delete_vertices=False).degree()\n",
    "\n",
    "\n",
    "\n",
    "## compute z (normalized within-module degree)\n",
    "g.vs['in_deg'] = [in_deg_0[i] + in_deg_1[i] + in_deg_2[i] + in_deg_3[i] + in_deg_4[i] + in_deg_5[i] + in_deg_6[i] + in_deg_7[i] + in_deg_8[i]+ in_deg_9[i] + in_deg_10[i] + in_deg_11[i] for i in range(g.vcount())]\n",
    "mu = [np.mean([x for x in in_deg_0 if x>0]),np.mean([x for x in in_deg_1 if x>0]),np.mean([x for x in in_deg_2 if x>0]),np.mean([x for x in in_deg_3 if x>0]),np.mean([x for x in in_deg_4 if x>0]),np.mean([x for x in in_deg_5 if x>0]),np.mean([x for x in in_deg_6 if x>0]),np.mean([x for x in in_deg_7 if x>0]),np.mean([x for x in in_deg_8 if x>0]),np.mean([x for x in in_deg_9 if x>0]),np.mean([x for x in in_deg_10 if x>0]),np.mean([x for x in in_deg_11 if x>0])]\n",
    "sig = [np.std([x for x in in_deg_0 if x>0],ddof=1),np.std([x for x in in_deg_1 if x>0],ddof=1),np.std([x for x in in_deg_2 if x>0],ddof=1),np.std([x for x in in_deg_3 if x>0],ddof=1),np.std([x for x in in_deg_4 if x>0],ddof=1),np.std([x for x in in_deg_5 if x>0],ddof=1),np.std([x for x in in_deg_6 if x>0],ddof=1),np.std([x for x in in_deg_7 if x>0],ddof=1),np.std([x for x in in_deg_8 if x>0],ddof=1),np.std([x for x in in_deg_9 if x>0],ddof=1),np.std([x for x in in_deg_10 if x>0],ddof=1),np.std([x for x in in_deg_11 if x>0],ddof=1)]\n",
    "g.vs['z'] = [(v['in_deg']-mu[v['comm']])/sig[v['comm']] for v in g.vs]\n",
    "\n",
    "## computing p (participation coefficient)\n",
    "g.vs['deg'] = g.degree()\n",
    "g.vs['out_deg'] = [v['deg'] - v['in_deg'] for v in g.vs]\n",
    "g.vs['p'] = [1-(v['in_deg']/v['deg'])**2-(v['out_deg']/v['deg'])**2 for v in g.vs]\n",
    "D = pd.DataFrame(np.array([g.vs['z'],g.vs['p']]).transpose(),columns=['z','p']).sort_values(by='z',ascending=False)\n",
    "D.head()"
   ]
  },
  {
   "cell_type": "code",
   "execution_count": 5,
   "id": "a5c4306f",
   "metadata": {},
   "outputs": [
    {
     "data": {
      "text/plain": [
       "<matplotlib.collections.PathCollection at 0x20134ee7160>"
      ]
     },
     "execution_count": 5,
     "metadata": {},
     "output_type": "execute_result"
    },
    {
     "data": {
      "image/png": "[encoded data removed]",
      "text/plain": [
       "<Figure size 864x648 with 1 Axes>"
      ]
     },
     "metadata": {
      "needs_background": "light"
     },
     "output_type": "display_data"
    }
   ],
   "source": [
    "## Figure 5.3(b) -- comparing the roles\n",
    "fig, ax = plt.subplots(figsize=(12,9))\n",
    "ax.scatter(g.vs['p'],g.vs['z'],marker='o',s=75, color='k')\n",
    "\n",
    "#plt.plot([0, .5], [2.5, 2.5], color='k', linestyle='-', linewidth=2)\n",
    "#plt.plot([.05, .05], [-.5, 2.4], color='k', linestyle='-', linewidth=2)"
   ]
  },
  {
   "cell_type": "code",
   "execution_count": 6,
   "id": "4801c32d",
   "metadata": {},
   "outputs": [
    {
     "name": "stdout",
     "output_type": "stream",
     "text": [
      "Non-Hubs:\n",
      "There are  0 ultra-peripheral nodes\n",
      "There are  958 peripheral nodes\n",
      "There are  0 connector nodes\n",
      "There are  0 kinless nodes\n",
      "Hubs:\n",
      "There are  0 provincial hubs\n",
      "There are  42 connector hubs\n",
      "There are  0 kinless hubs\n"
     ]
    }
   ],
   "source": [
    "ultra_peri = len(D[(D['z'] <= 2.5) & (D['p'] < 0.05)])\n",
    "peri = len(D[(D['z'] <= 2.5) & (D['p'] >= 0.05) & (D.p<0.62)])\n",
    "connector_nonhub = len(D[(D['z'] <= 2.5) & (D['p'] >= 0.62) & (D['p']<0.80)])\n",
    "kinless_non_hub = len(D[(D['z'] <= 2.5) & (D['p'] >= 0.8)])\n",
    "\n",
    "provincial = len(D[(D['z'] > 2.5) & (D['p'] < 0.3)])\n",
    "connector_hub = len(D[(D['z'] > 2.5) & (D['p'] >= 0.3) & (D['p']<0.75)])\n",
    "kinless_hub = len(D[(D['z'] > 2.5) & (D['p'] >= 0.75)])\n",
    "\n",
    "print(\"Non-Hubs:\")\n",
    "print(\"There are \", ultra_peri, \"ultra-peripheral nodes\")\n",
    "print(\"There are \", peri, \"peripheral nodes\")\n",
    "print(\"There are \", connector_nonhub, \"connector nodes\")\n",
    "print(\"There are \", kinless_non_hub, \"kinless nodes\")\n",
    "\n",
    "print(\"Hubs:\")\n",
    "print(\"There are \", provincial, \"provincial hubs\")\n",
    "print(\"There are \", connector_hub, \"connector hubs\")\n",
    "print(\"There are \", kinless_hub, \"kinless hubs\")"
   ]
  },
  {
   "cell_type": "markdown",
   "id": "bf77efdc",
   "metadata": {},
   "source": [
    "# Question 6"
   ]
  },
  {
   "cell_type": "code",
   "execution_count": 12,
   "id": "27ace5da",
   "metadata": {},
   "outputs": [],
   "source": [
    "algos = ['ECG', 'Louvian', 'Infomap', 'Label Propogation', 'GN', 'CNM']\n",
    "nodes = ['100', '200', '400', '800', '1600']\n",
    "result = []\n",
    "\n",
    "for n in nodes:\n",
    "    times = []\n",
    "    \n",
    "    cmd = 'julia '+abcd_path+'abcd_sampler.jl ' +abcd_path+'abcd_'+n+'.toml'\n",
    "    os.system(cmd)\n",
    "    g = ig.Graph.Read_Ncol('edge_'+n+'.dat',directed=False)\n",
    "    \n",
    "    start_time = time.process_time()\n",
    "    ec = g.community_ecg().membership\n",
    "    end_time = time.process_time()\n",
    "    times.append(end_time - start_time)\n",
    "    \n",
    "    start_time = time.process_time()\n",
    "    ml = g.community_multilevel().membership\n",
    "    end_time = time.process_time()\n",
    "    times.append(end_time - start_time)\n",
    "    \n",
    "    start_time = time.process_time()\n",
    "    im = g.community_infomap().membership\n",
    "    end_time = time.process_time()\n",
    "    times.append(end_time - start_time)\n",
    "    \n",
    "    start_time = time.process_time()\n",
    "    lp = g.community_label_propagation().membership\n",
    "    end_time = time.process_time()\n",
    "    times.append(end_time - start_time)\n",
    "       \n",
    "    start_time = time.process_time()\n",
    "    gn = g.community_edge_betweenness()\n",
    "    end_time = time.process_time()\n",
    "    times.append(end_time - start_time)\n",
    "    \n",
    "    start_time = time.process_time()\n",
    "    cnm = g.community_fastgreedy().as_clustering().membership\n",
    "    end_time = time.process_time()\n",
    "    times.append(end_time - start_time)\n",
    "    \n",
    "    result.append(times)\n",
    "    \n",
    "\n"
   ]
  },
  {
   "cell_type": "code",
   "execution_count": 13,
   "id": "c54971e6",
   "metadata": {},
   "outputs": [
    {
     "name": "stdout",
     "output_type": "stream",
     "text": [
      "           ECG  Louvian   Infomap  Label Propogation          GN       CNM\n",
      "100   0.000000      0.0  0.000000           0.000000    0.000000  0.000000\n",
      "200   0.015625      0.0  0.000000           0.000000    0.000000  0.000000\n",
      "400   0.015625      0.0  0.015625           0.000000    0.015625  0.000000\n",
      "800   0.031250      0.0  0.031250           0.000000    0.125000  0.000000\n",
      "1600  0.343750      0.0  1.187500           0.015625  340.656250  0.046875\n"
     ]
    }
   ],
   "source": [
    "df = pd.DataFrame(result, index=nodes, columns = algos)\n",
    "print(df)"
   ]
  },
  {
   "cell_type": "markdown",
   "id": "2dcf338e",
   "metadata": {},
   "source": [
    "Label propogation takes the shortest time, with it only taking up 0.01 seconds at 1600 nodes, whereaas Girvan-Newman takes the longest time, at 340 seconds for 1600 nodes (perhaps due to , and took higher than all other algorithms at 400 and 800 nodes."
   ]
  }
 ],
 "metadata": {
  "kernelspec": {
   "display_name": "Python 3 (ipykernel)",
   "language": "python",
   "name": "python3"
  },
  "language_info": {
   "codemirror_mode": {
    "name": "ipython",
    "version": 3
   },
   "file_extension": ".py",
   "mimetype": "text/x-python",
   "name": "python",
   "nbconvert_exporter": "python",
   "pygments_lexer": "ipython3",
   "version": "3.8.12"
  }
 },
 "nbformat": 4,
 "nbformat_minor": 5
}
