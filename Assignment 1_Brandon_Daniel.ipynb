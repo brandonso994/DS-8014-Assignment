{
 "cells": [
  {
   "cell_type": "code",
   "execution_count": 6,
   "id": "bb17ab97",
   "metadata": {},
   "outputs": [],
   "source": [
    "## required packages for this Chapter\n",
    "import igraph as ig\n",
    "import numpy as np\n",
    "import pandas as pd\n",
    "import matplotlib.pyplot as plt\n",
    "from sklearn.linear_model import LinearRegression\n",
    "from collections import Counter\n",
    "from statsmodels.distributions.empirical_distribution import ECDF as ecdf"
   ]
  },
  {
   "cell_type": "markdown",
   "id": "08075d1e",
   "metadata": {},
   "source": [
    "# Question 2"
   ]
  },
  {
   "cell_type": "markdown",
   "id": "ff64e9e3",
   "metadata": {},
   "source": [
    "The link4 to the Grid network (Europe) also has data for North America. Perform a similar type of EDA as in Section 1.12 (in particular, replicate Table 1.1) for that graph, including getting and preparing the data (which is usually the most time consuming part of the process). The raw downloaded files can be also found in Datasets/GridNorthAmerica in the additional material from the book’s web site. You may have a look at the raw files and the processed data in Datasets/GridEurope and do the same for North America."
   ]
  },
  {
   "cell_type": "code",
   "execution_count": 2,
   "id": "15b57464",
   "metadata": {},
   "outputs": [],
   "source": [
    "## read edge list for the grid network and build undirected graph\n",
    "D = pd.read_csv('gridkit_north_america-highvoltage-links.csv')\n",
    "Dnew = D[['v_id_1', 'v_id_2']].copy()\n",
    "tuples = [tuple(x) for x in Dnew.values]\n",
    "gr = ig.Graph.TupleList(tuples, directed = False)\n",
    "gr = gr.simplify()\n",
    "\n",
    "## read the vertices along with some of the attributes\n",
    "X = pd.read_csv('gridkit_north_america-highvoltage-vertices.csv')\n",
    "idx = [int(i) for i in gr.vs['name']]\n",
    "sorterIndex = dict(zip(idx,range(len(idx))))\n",
    "X['Rank'] = X['v_id'].map(sorterIndex)\n",
    "X.sort_values(['Rank'], ascending=[True],inplace=True)\n",
    "X.dropna(inplace=True)\n",
    "gr.vs['longitude'] = list(X['lon'])\n",
    "gr.vs['latitude'] = list(X['lat'])\n",
    "gr.vs['type'] = list(X['typ'])\n",
    "gr.vs['layout'] = [(v['longitude'],v['latitude']) for v in gr.vs()] ## tuples with lat/lon\n",
    "gr.vs['size'] = 3\n",
    "gr.es['color'] = 'grey'\n",
    "gr.vs['color'] = 'black'"
   ]
  },
  {
   "cell_type": "code",
   "execution_count": 3,
   "id": "34cd0906",
   "metadata": {},
   "outputs": [
    {
     "name": "stderr",
     "output_type": "stream",
     "text": [
      "C:\\Users\\Brandon\\AppData\\Local\\Temp/ipykernel_28204/1925536392.py:4: DeprecationWarning: Graph.clusters() is deprecated; use Graph.connected_components() instead\n",
      "  np.max(deg),G.diameter(),np.max(G.clusters().membership)+1,G.clusters().giant().vcount(),\n"
     ]
    },
    {
     "data": {
      "text/html": [
       "<div>\n",
       "<style scoped>\n",
       "    .dataframe tbody tr th:only-of-type {\n",
       "        vertical-align: middle;\n",
       "    }\n",
       "\n",
       "    .dataframe tbody tr th {\n",
       "        vertical-align: top;\n",
       "    }\n",
       "\n",
       "    .dataframe thead th {\n",
       "        text-align: right;\n",
       "    }\n",
       "</style>\n",
       "<table border=\"1\" class=\"dataframe\">\n",
       "  <thead>\n",
       "    <tr style=\"text-align: right;\">\n",
       "      <th></th>\n",
       "      <th>0</th>\n",
       "    </tr>\n",
       "  </thead>\n",
       "  <tbody>\n",
       "    <tr>\n",
       "      <th>graph</th>\n",
       "      <td>Grid</td>\n",
       "    </tr>\n",
       "    <tr>\n",
       "      <th>nodes</th>\n",
       "      <td>16167</td>\n",
       "    </tr>\n",
       "    <tr>\n",
       "      <th>edges</th>\n",
       "      <td>20242</td>\n",
       "    </tr>\n",
       "    <tr>\n",
       "      <th>$d_{min}$</th>\n",
       "      <td>1</td>\n",
       "    </tr>\n",
       "    <tr>\n",
       "      <th>$d_{mean}$</th>\n",
       "      <td>2.504113</td>\n",
       "    </tr>\n",
       "    <tr>\n",
       "      <th>$d_{median}$</th>\n",
       "      <td>2.0</td>\n",
       "    </tr>\n",
       "    <tr>\n",
       "      <th>$d_{quant_{99}}$</th>\n",
       "      <td>7.0</td>\n",
       "    </tr>\n",
       "    <tr>\n",
       "      <th>$d_{max}$</th>\n",
       "      <td>22</td>\n",
       "    </tr>\n",
       "    <tr>\n",
       "      <th>diameter</th>\n",
       "      <td>138</td>\n",
       "    </tr>\n",
       "    <tr>\n",
       "      <th>components</th>\n",
       "      <td>34</td>\n",
       "    </tr>\n",
       "    <tr>\n",
       "      <th>largest</th>\n",
       "      <td>14990</td>\n",
       "    </tr>\n",
       "    <tr>\n",
       "      <th>isolates</th>\n",
       "      <td>0</td>\n",
       "    </tr>\n",
       "    <tr>\n",
       "      <th>$C_{glob}$</th>\n",
       "      <td>0.102377</td>\n",
       "    </tr>\n",
       "    <tr>\n",
       "      <th>$C_{loc}$</th>\n",
       "      <td>0.104157</td>\n",
       "    </tr>\n",
       "  </tbody>\n",
       "</table>\n",
       "</div>"
      ],
      "text/plain": [
       "                         0\n",
       "graph                 Grid\n",
       "nodes                16167\n",
       "edges                20242\n",
       "$d_{min}$                1\n",
       "$d_{mean}$        2.504113\n",
       "$d_{median}$           2.0\n",
       "$d_{quant_{99}}$       7.0\n",
       "$d_{max}$               22\n",
       "diameter               138\n",
       "components              34\n",
       "largest              14990\n",
       "isolates                 0\n",
       "$C_{glob}$        0.102377\n",
       "$C_{loc}$         0.104157"
      ]
     },
     "execution_count": 3,
     "metadata": {},
     "output_type": "execute_result"
    }
   ],
   "source": [
    "def baseStats(G):\n",
    "    deg = G.degree()\n",
    "    return [G.vcount(),G.ecount(),np.min(deg),np.mean(deg),np.median(deg),np.quantile(deg,.99),\n",
    "            np.max(deg),G.diameter(),np.max(G.clusters().membership)+1,G.clusters().giant().vcount(),\n",
    "            sum([x==0 for x in G.degree()]),G.transitivity_undirected(mode='nan'),\n",
    "            G.transitivity_avglocal_undirected(mode='nan')]\n",
    "S = []\n",
    "S.append(['Grid'] + baseStats(gr))\n",
    "D = pd.DataFrame(S,columns=['graph','nodes','edges',r'$d_{min}$',r'$d_{mean}$',r'$d_{median}$',\n",
    "                            r'$d_{quant_{99}}$',r'$d_{max}$','diameter','components','largest',\n",
    "                            'isolates',r'$C_{glob}$',r'$C_{loc}$']).transpose()\n",
    "D"
   ]
  },
  {
   "cell_type": "markdown",
   "id": "8d94b01f",
   "metadata": {},
   "source": [
    "# Question 3"
   ]
  },
  {
   "cell_type": "markdown",
   "id": "dc299c6f",
   "metadata": {},
   "source": [
    "Consider the GitHub (ml) graph on 9,739 nodes."
   ]
  },
  {
   "cell_type": "code",
   "execution_count": 177,
   "id": "e32bee5f",
   "metadata": {},
   "outputs": [],
   "source": [
    "## read the GitHub edge list as tuples and build undirected graph\n",
    "D = pd.read_csv('musae_git_edges.csv')\n",
    "tuples = [tuple(x) for x in D.values]\n",
    "gh = ig.Graph.TupleList(tuples, directed = False)\n",
    "\n",
    "## read node features\n",
    "X = pd.read_csv('musae_git_target.csv')\n",
    "\n",
    "## map node names in edgelist to indices in the graph\n",
    "idx = [int(i) for i in gh.vs['name']]\n",
    "sorterIndex = dict(zip(idx,range(len(idx))))\n",
    "X['Rank'] = X['id'].map(sorterIndex) \n",
    "X.sort_values(['Rank'], ascending=[True],inplace=True)\n",
    "X.dropna(inplace=True)\n",
    "\n",
    "cls = ['grey','black'] \n",
    "lbl = ['web','ml']     \n",
    "gh.es['color'] = 'grey' \n",
    "\n",
    "## there are 2 node types: ml or web\n",
    "gh.vs['color'] = [cls[i] for i in list(X['ml_target'])]\n",
    "gh.vs['lbl'] = [lbl[i] for i in list(X['ml_target'])]\n",
    "\n",
    "## build the subgraphs\n",
    "gh_ml = gh.subgraph([v for v in gh.vs() if v['lbl']=='ml'])\n",
    "gh_web = gh.subgraph([v for v in gh.vs() if v['lbl']=='web'])\n"
   ]
  },
  {
   "cell_type": "code",
   "execution_count": 3,
   "id": "e91763ac",
   "metadata": {},
   "outputs": [],
   "source": [
    "adj = gh_ml.get_adjacency()\n",
    "adj = np.array(adj.data)\n",
    "walk_adj = np.linalg.matrix_power(adj, 5)\n",
    "walk_num = np.sum(walk_adj)"
   ]
  },
  {
   "cell_type": "markdown",
   "id": "79b4ce71",
   "metadata": {},
   "source": [
    "a. Find the number of walks of length 5."
   ]
  },
  {
   "cell_type": "code",
   "execution_count": 4,
   "id": "3035af15",
   "metadata": {
    "scrolled": true
   },
   "outputs": [
    {
     "data": {
      "text/plain": [
       "1815466386"
      ]
     },
     "execution_count": 4,
     "metadata": {},
     "output_type": "execute_result"
    }
   ],
   "source": [
    "walk_num"
   ]
  },
  {
   "cell_type": "markdown",
   "id": "24bac994",
   "metadata": {},
   "source": [
    "b. Find the number of cycles of length 4 (induced, that is, without chords)."
   ]
  },
  {
   "cell_type": "code",
   "execution_count": 33,
   "id": "4aaa9233",
   "metadata": {},
   "outputs": [
    {
     "data": {
      "text/plain": [
       "53872539"
      ]
     },
     "execution_count": 33,
     "metadata": {},
     "output_type": "execute_result"
    }
   ],
   "source": [
    "gh_ml.motifs_randesu_no(size=4)"
   ]
  },
  {
   "cell_type": "markdown",
   "id": "26b195d7",
   "metadata": {},
   "source": [
    "# Question 4"
   ]
  },
  {
   "cell_type": "markdown",
   "id": "8c54cd74",
   "metadata": {},
   "source": [
    "Consider the airport graph found in the additional material from the book’s web site under Datasets/Airport/airport data.csv. The first 3 fields are: the origin, the destination and, respectively, the number of passengers. This graph is weighted and directed; the weight of a directed edge uv corresponds to the number of passen- gers travelling from airport u to airport v.\n",
    "\n",
    "a. Plot the cumulative degree distribution (points (l, n≥l), where n≥l is the number of nodes of degree at least l ≥ 1) in the log-log plot. Find the slope of the line obtained via linear re- gression.\n"
   ]
  },
  {
   "cell_type": "code",
   "execution_count": 175,
   "id": "799e4b75",
   "metadata": {
    "scrolled": true
   },
   "outputs": [
    {
     "name": "stdout",
     "output_type": "stream",
     "text": [
      "Regression Coefficient: 0.29630541010964406\n"
     ]
    },
    {
     "data": {
      "image/png": "[encoded data removed]",
      "text/plain": [
       "<Figure size 432x288 with 1 Axes>"
      ]
     },
     "metadata": {
      "needs_background": "light"
     },
     "output_type": "display_data"
    }
   ],
   "source": [
    "D = pd.read_csv('connections.csv')\n",
    "X = pd.read_csv('airports_loc.csv')\n",
    "\n",
    "#Z = (D.merge(X, left_on='orig_airport', right_on='airport'))\n",
    "\n",
    "tuples = [tuple(x) for x in D.values]\n",
    "ag = ig.Graph.TupleList(tuples, directed = True, edge_attrs = ['weight'])\n",
    "for s in ag.vs:\n",
    "    s['lon'] = X.loc[X['airport'] == s['name'], 'lon'].iloc[0]\n",
    "    s['lat'] = X.loc[X['airport'] == s['name'], 'lat'].iloc[0]\n",
    "    s['state'] = X.loc[X['airport'] == s['name'], 'state'].iloc[0]\n",
    "    s['city'] = X.loc[X['airport'] == s['name'], 'city'].iloc[0]\n",
    "\n",
    "\n",
    "deg = ag.degree()\n",
    "e = ecdf(deg)\n",
    "x = np.arange(1,ag.maxdegree(),1)\n",
    "y = [e(i) for i in x]\n",
    "plt.loglog(x,y,'-',color='black',label='Grid')\n",
    "plt.xlabel('degree',fontsize=14)\n",
    "plt.ylabel('empirical cdf',fontsize=14);\n",
    "\n",
    "regressor = LinearRegression()  \n",
    "r = [np.log(i) for i in x]\n",
    "z = [np.log(i) for i in y]\n",
    "\n",
    "mindeg = 1\n",
    "maxdeg = ag.maxdegree()\n",
    "\n",
    "regressor.fit(np.array(r).reshape(-1,1), z)\n",
    "b = regressor.intercept_\n",
    "a = regressor.coef_[0]\n",
    "plt.plot([mindeg,maxdeg],[np.exp(b)*mindeg**a,np.exp(b)*maxdeg**a],color='black')\n",
    "\n",
    "print('Regression Coefficient:',regressor.coef_[0])"
   ]
  },
  {
   "cell_type": "markdown",
   "id": "100a693a",
   "metadata": {},
   "source": [
    "b.Find the busiest airport. In other words, find the node with the maximum total degree (degin(v) + degout(v)).\n"
   ]
  },
  {
   "cell_type": "code",
   "execution_count": 70,
   "id": "e0698992",
   "metadata": {},
   "outputs": [
    {
     "name": "stdout",
     "output_type": "stream",
     "text": [
      "Busiest Airport: ATL\n"
     ]
    }
   ],
   "source": [
    "max_deg = max(ag.degree())\n",
    "busy_airport = ag.vs.find(_degree=max_deg)\n",
    "print('Busiest Airport:', busy_airport['name'])"
   ]
  },
  {
   "cell_type": "markdown",
   "id": "56ca837c",
   "metadata": {},
   "source": [
    "c.Find the number of strongly connected components."
   ]
  },
  {
   "cell_type": "code",
   "execution_count": 92,
   "id": "86111d40",
   "metadata": {},
   "outputs": [
    {
     "name": "stdout",
     "output_type": "stream",
     "text": [
      "Number of Strongly Connected Comoponents: 40\n"
     ]
    }
   ],
   "source": [
    "strong_graph = ag.connected_components(mode='strong')\n",
    "print('Number of Strongly Connected Comoponents:',len(strong_graph))"
   ]
  },
  {
   "cell_type": "markdown",
   "id": "f51875b1",
   "metadata": {},
   "source": [
    "d.Find the subgraph induced by all airports from California. Find the number of isolated nodes in this subgraph."
   ]
  },
  {
   "cell_type": "code",
   "execution_count": 191,
   "id": "8c09929b",
   "metadata": {},
   "outputs": [
    {
     "name": "stdout",
     "output_type": "stream",
     "text": [
      "Isolated in CA induced graph: 9\n"
     ]
    }
   ],
   "source": [
    "ca = ag.subgraph([v for v in ag.vs() if v['state']=='CA'])\n",
    "iso_ca = ca.vs.select(_degree=0)\n",
    "\n",
    "print('Isolated in CA induced graph:', len(iso_ca))"
   ]
  },
  {
   "cell_type": "markdown",
   "id": "28b857ef",
   "metadata": {},
   "source": [
    "# Question 5"
   ]
  },
  {
   "cell_type": "markdown",
   "id": "b0a22f02",
   "metadata": {},
   "source": [
    "Take 100 random pairs of nodes in the European Grid network. For each pair plot a point (x, y), where x is the graph distance between the two nodes and y is the corresponding geographical distance (in kilometres). Is there a correlation between the two distances? In order to compute the geographical distance you may, for example, use function geodesic from geopy package or implement it from scratch using the haversine formula that determines the great-circle distance between two points on a sphere given their longitudes and latitudes."
   ]
  },
  {
   "cell_type": "code",
   "execution_count": 7,
   "id": "d028f61e",
   "metadata": {},
   "outputs": [],
   "source": [
    "import igraph as ig\n",
    "import numpy as np\n",
    "import pandas as pd\n",
    "import seaborn as sns\n",
    "import matplotlib.pyplot as plt\n",
    "from geopy.distance import geodesic as GD\n",
    "from sklearn.linear_model import LinearRegression\n",
    "from collections import Counter\n",
    "from statsmodels.distributions.empirical_distribution import ECDF as ecdf"
   ]
  },
  {
   "cell_type": "code",
   "execution_count": 8,
   "id": "0c627b01",
   "metadata": {},
   "outputs": [],
   "source": [
    "D = pd.read_csv('gridkit_europe-highvoltage-links.csv')\n",
    "Dnew = D[['v_id_1', 'v_id_2']].copy()\n",
    "tuples = [tuple(x) for x in Dnew.values]\n",
    "gr = ig.Graph.TupleList(tuples, directed = False)\n",
    "gr = gr.simplify()\n",
    "X = pd.read_csv('gridkit_europe-highvoltage-vertices.csv')\n",
    "idx = [int(i) for i in gr.vs['name']]\n",
    "sorterIndex = dict(zip(idx,range(len(idx))))\n",
    "X['Rank'] = X['v_id'].map(sorterIndex)\n",
    "X.sort_values(['Rank'], ascending=[True],inplace=True)\n",
    "X.dropna(inplace=True)\n",
    "gr.vs['longitude'] = list(X['lon'])\n",
    "gr.vs['latitude'] = list(X['lat'])\n",
    "gr.vs['type'] = list(X['typ'])\n",
    "gr.vs['layout'] = [(v['longitude'],v['latitude']) for v in gr.vs()] \n",
    "gr.vs['size'] = 3"
   ]
  },
  {
   "cell_type": "code",
   "execution_count": 9,
   "id": "faa86a95",
   "metadata": {},
   "outputs": [
    {
     "name": "stderr",
     "output_type": "stream",
     "text": [
      "/var/folders/05/62lgrwmj4nz80f41r9vl6ylc0000gn/T/ipykernel_48543/2704587549.py:1: DeprecationWarning: Graph.clusters() is deprecated; use Graph.connected_components() instead\n",
      "  sg = gr.clusters().giant()\n"
     ]
    }
   ],
   "source": [
    "sg = gr.clusters().giant()"
   ]
  },
  {
   "cell_type": "code",
   "execution_count": 10,
   "id": "9aad48f0",
   "metadata": {},
   "outputs": [],
   "source": [
    "lt1=np.random.choice(sg.vcount(), size=100, replace=False)\n",
    "lt2=np.random.choice(sg.vcount(), size=100, replace=False)\n",
    "path_lengths=[]\n",
    "for i in range(100):\n",
    "    path_lengths.extend(sg.distances(lt1[i], lt2[i])[0])\n",
    "vertices1 = [(sg.vs[lt1[i]]['latitude'],sg.vs[lt1[i]]['longitude']) for i in range(100)]\n",
    "vertices2 = [(sg.vs[lt2[i]]['latitude'],sg.vs[lt2[i]]['longitude']) for i in range(100)]\n",
    "geo_distances = [GD(vertices1[i],vertices2[i]).km for i in range(100)]"
   ]
  },
  {
   "cell_type": "code",
   "execution_count": 11,
   "id": "946af40a",
   "metadata": {},
   "outputs": [
    {
     "data": {
      "text/html": [
       "<div>\n",
       "<style scoped>\n",
       "    .dataframe tbody tr th:only-of-type {\n",
       "        vertical-align: middle;\n",
       "    }\n",
       "\n",
       "    .dataframe tbody tr th {\n",
       "        vertical-align: top;\n",
       "    }\n",
       "\n",
       "    .dataframe thead th {\n",
       "        text-align: right;\n",
       "    }\n",
       "</style>\n",
       "<table border=\"1\" class=\"dataframe\">\n",
       "  <thead>\n",
       "    <tr style=\"text-align: right;\">\n",
       "      <th></th>\n",
       "      <th>Graph Distance</th>\n",
       "      <th>Geo Distance</th>\n",
       "    </tr>\n",
       "  </thead>\n",
       "  <tbody>\n",
       "    <tr>\n",
       "      <th>80</th>\n",
       "      <td>8</td>\n",
       "      <td>447.802846</td>\n",
       "    </tr>\n",
       "    <tr>\n",
       "      <th>2</th>\n",
       "      <td>9</td>\n",
       "      <td>358.305352</td>\n",
       "    </tr>\n",
       "    <tr>\n",
       "      <th>48</th>\n",
       "      <td>11</td>\n",
       "      <td>120.444530</td>\n",
       "    </tr>\n",
       "    <tr>\n",
       "      <th>25</th>\n",
       "      <td>12</td>\n",
       "      <td>970.014709</td>\n",
       "    </tr>\n",
       "    <tr>\n",
       "      <th>1</th>\n",
       "      <td>13</td>\n",
       "      <td>68.939394</td>\n",
       "    </tr>\n",
       "    <tr>\n",
       "      <th>...</th>\n",
       "      <td>...</td>\n",
       "      <td>...</td>\n",
       "    </tr>\n",
       "    <tr>\n",
       "      <th>79</th>\n",
       "      <td>81</td>\n",
       "      <td>417.751794</td>\n",
       "    </tr>\n",
       "    <tr>\n",
       "      <th>10</th>\n",
       "      <td>82</td>\n",
       "      <td>274.698777</td>\n",
       "    </tr>\n",
       "    <tr>\n",
       "      <th>89</th>\n",
       "      <td>84</td>\n",
       "      <td>260.220685</td>\n",
       "    </tr>\n",
       "    <tr>\n",
       "      <th>50</th>\n",
       "      <td>84</td>\n",
       "      <td>150.090300</td>\n",
       "    </tr>\n",
       "    <tr>\n",
       "      <th>51</th>\n",
       "      <td>90</td>\n",
       "      <td>63.339502</td>\n",
       "    </tr>\n",
       "  </tbody>\n",
       "</table>\n",
       "<p>100 rows × 2 columns</p>\n",
       "</div>"
      ],
      "text/plain": [
       "    Graph Distance  Geo Distance\n",
       "80               8    447.802846\n",
       "2                9    358.305352\n",
       "48              11    120.444530\n",
       "25              12    970.014709\n",
       "1               13     68.939394\n",
       "..             ...           ...\n",
       "79              81    417.751794\n",
       "10              82    274.698777\n",
       "89              84    260.220685\n",
       "50              84    150.090300\n",
       "51              90     63.339502\n",
       "\n",
       "[100 rows x 2 columns]"
      ]
     },
     "execution_count": 11,
     "metadata": {},
     "output_type": "execute_result"
    }
   ],
   "source": [
    "data_source = pd.DataFrame({'Graph Distance' : path_lengths,\n",
    "                                'Geo Distance' : geo_distances}, \n",
    "                                columns=['Graph Distance','Geo Distance'])\n",
    "data_source.sort_values(by=['Graph Distance'])"
   ]
  },
  {
   "cell_type": "code",
   "execution_count": 12,
   "id": "e5ca70a0",
   "metadata": {},
   "outputs": [
    {
     "data": {
      "text/plain": [
       "[Text(0.5, 0, 'Graph Distance'),\n",
       " Text(0, 0.5, 'Geographical Distance (in Kilometres)'),\n",
       " Text(0.5, 1.0, 'Scatterplot of Graph Distance vs Geographical Distance')]"
      ]
     },
     "execution_count": 12,
     "metadata": {},
     "output_type": "execute_result"
    },
    {
     "data": {
      "image/png": "[encoded data removed]",
      "text/plain": [
       "<Figure size 432x288 with 1 Axes>"
      ]
     },
     "metadata": {
      "needs_background": "light"
     },
     "output_type": "display_data"
    }
   ],
   "source": [
    "fig=sns.scatterplot(data = data_source, x=\"Graph Distance\", y=\"Geo Distance\")\n",
    "fig.set(xlabel=\"Graph Distance\", ylabel=\"Geographical Distance (in Kilometres)\",title='Scatterplot of Graph Distance vs Geographical Distance')\n"
   ]
  },
  {
   "cell_type": "markdown",
   "id": "b8ca179a",
   "metadata": {},
   "source": [
    "No clear correlation can be seen between the graph distance and the grographical distances(x and y)."
   ]
  }
 ],
 "metadata": {
  "kernelspec": {
   "display_name": "Python 3 (ipykernel)",
   "language": "python",
   "name": "python3"
  },
  "language_info": {
   "codemirror_mode": {
    "name": "ipython",
    "version": 3
   },
   "file_extension": ".py",
   "mimetype": "text/x-python",
   "name": "python",
   "nbconvert_exporter": "python",
   "pygments_lexer": "ipython3",
   "version": "3.8.12"
  }
 },
 "nbformat": 4,
 "nbformat_minor": 5
}
